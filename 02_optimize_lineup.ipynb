{
 "cells": [
  {
   "cell_type": "markdown",
   "metadata": {},
   "source": [
    "### DK Salaries Optimizer"
   ]
  },
  {
   "cell_type": "code",
   "execution_count": 652,
   "metadata": {},
   "outputs": [],
   "source": [
    "import pandas as pd\n",
    "import numpy as np\n",
    "from pulp import *"
   ]
  },
  {
   "cell_type": "code",
   "execution_count": 653,
   "metadata": {},
   "outputs": [],
   "source": [
    "SALARY_CAP = 50000\n",
    "MAX_PLAYERS = 8"
   ]
  },
  {
   "cell_type": "code",
   "execution_count": 654,
   "metadata": {},
   "outputs": [
    {
     "output_type": "execute_result",
     "data": {
      "text/plain": [
       "   Unnamed: 0    FP   SALARY  VALUE    MIN   PTS   REB   AST  STL  BLK   TO  \\\n",
       "0           1  60.4  $10,100   5.98  34.33  28.4   8.7  10.3  1.4  0.9  4.7   \n",
       "1           3  54.7  $10,000   5.47  34.63  27.0   9.6   9.4  1.1  0.4  3.8   \n",
       "2           5  51.8  $10,600   4.88  35.32  21.6  11.7   7.5  1.3  0.8  3.6   \n",
       "3           7  50.6  $10,200   4.96  32.67  21.8   9.4   9.8  1.6  0.4  3.3   \n",
       "4           9  50.5   $9,600   5.26  35.19  26.8   8.5   5.5  2.1  0.6  3.0   \n",
       "\n",
       "            PLAYER_NAME  \n",
       "0    LeBron James PG/SF  \n",
       "1        Luka Doncic PG  \n",
       "2        Nikola Jokic C  \n",
       "3  Russell Westbrook PG  \n",
       "4      Kawhi Leonard SF  "
      ],
      "text/html": "<div>\n<style scoped>\n    .dataframe tbody tr th:only-of-type {\n        vertical-align: middle;\n    }\n\n    .dataframe tbody tr th {\n        vertical-align: top;\n    }\n\n    .dataframe thead th {\n        text-align: right;\n    }\n</style>\n<table border=\"1\" class=\"dataframe\">\n  <thead>\n    <tr style=\"text-align: right;\">\n      <th></th>\n      <th>Unnamed: 0</th>\n      <th>FP</th>\n      <th>SALARY</th>\n      <th>VALUE</th>\n      <th>MIN</th>\n      <th>PTS</th>\n      <th>REB</th>\n      <th>AST</th>\n      <th>STL</th>\n      <th>BLK</th>\n      <th>TO</th>\n      <th>PLAYER_NAME</th>\n    </tr>\n  </thead>\n  <tbody>\n    <tr>\n      <th>0</th>\n      <td>1</td>\n      <td>60.4</td>\n      <td>$10,100</td>\n      <td>5.98</td>\n      <td>34.33</td>\n      <td>28.4</td>\n      <td>8.7</td>\n      <td>10.3</td>\n      <td>1.4</td>\n      <td>0.9</td>\n      <td>4.7</td>\n      <td>LeBron James PG/SF</td>\n    </tr>\n    <tr>\n      <th>1</th>\n      <td>3</td>\n      <td>54.7</td>\n      <td>$10,000</td>\n      <td>5.47</td>\n      <td>34.63</td>\n      <td>27.0</td>\n      <td>9.6</td>\n      <td>9.4</td>\n      <td>1.1</td>\n      <td>0.4</td>\n      <td>3.8</td>\n      <td>Luka Doncic PG</td>\n    </tr>\n    <tr>\n      <th>2</th>\n      <td>5</td>\n      <td>51.8</td>\n      <td>$10,600</td>\n      <td>4.88</td>\n      <td>35.32</td>\n      <td>21.6</td>\n      <td>11.7</td>\n      <td>7.5</td>\n      <td>1.3</td>\n      <td>0.8</td>\n      <td>3.6</td>\n      <td>Nikola Jokic C</td>\n    </tr>\n    <tr>\n      <th>3</th>\n      <td>7</td>\n      <td>50.6</td>\n      <td>$10,200</td>\n      <td>4.96</td>\n      <td>32.67</td>\n      <td>21.8</td>\n      <td>9.4</td>\n      <td>9.8</td>\n      <td>1.6</td>\n      <td>0.4</td>\n      <td>3.3</td>\n      <td>Russell Westbrook PG</td>\n    </tr>\n    <tr>\n      <th>4</th>\n      <td>9</td>\n      <td>50.5</td>\n      <td>$9,600</td>\n      <td>5.26</td>\n      <td>35.19</td>\n      <td>26.8</td>\n      <td>8.5</td>\n      <td>5.5</td>\n      <td>2.1</td>\n      <td>0.6</td>\n      <td>3.0</td>\n      <td>Kawhi Leonard SF</td>\n    </tr>\n  </tbody>\n</table>\n</div>"
     },
     "metadata": {},
     "execution_count": 654
    }
   ],
   "source": [
    "dk_data = pd.read_csv(\"numberfire.csv\")\n",
    "dk_data.head()"
   ]
  },
  {
   "cell_type": "code",
   "execution_count": 655,
   "metadata": {},
   "outputs": [
    {
     "output_type": "execute_result",
     "data": {
      "text/plain": [
       "   Unnamed: 0    FP   SALARY  VALUE    MIN   PTS   REB   AST  STL  BLK   TO  \\\n",
       "0           1  60.4  $10,100   5.98  34.33  28.4   8.7  10.3  1.4  0.9  4.7   \n",
       "1           3  54.7  $10,000   5.47  34.63  27.0   9.6   9.4  1.1  0.4  3.8   \n",
       "2           5  51.8  $10,600   4.88  35.32  21.6  11.7   7.5  1.3  0.8  3.6   \n",
       "3           7  50.6  $10,200   4.96  32.67  21.8   9.4   9.8  1.6  0.4  3.3   \n",
       "4           9  50.5   $9,600   5.26  35.19  26.8   8.5   5.5  2.1  0.6  3.0   \n",
       "\n",
       "            PLAYER_NAME  \n",
       "0    LeBron James PG/SF  \n",
       "1        Luka Doncic PG  \n",
       "2        Nikola Jokic C  \n",
       "3  Russell Westbrook PG  \n",
       "4      Kawhi Leonard SF  "
      ],
      "text/html": "<div>\n<style scoped>\n    .dataframe tbody tr th:only-of-type {\n        vertical-align: middle;\n    }\n\n    .dataframe tbody tr th {\n        vertical-align: top;\n    }\n\n    .dataframe thead th {\n        text-align: right;\n    }\n</style>\n<table border=\"1\" class=\"dataframe\">\n  <thead>\n    <tr style=\"text-align: right;\">\n      <th></th>\n      <th>Unnamed: 0</th>\n      <th>FP</th>\n      <th>SALARY</th>\n      <th>VALUE</th>\n      <th>MIN</th>\n      <th>PTS</th>\n      <th>REB</th>\n      <th>AST</th>\n      <th>STL</th>\n      <th>BLK</th>\n      <th>TO</th>\n      <th>PLAYER_NAME</th>\n    </tr>\n  </thead>\n  <tbody>\n    <tr>\n      <th>0</th>\n      <td>1</td>\n      <td>60.4</td>\n      <td>$10,100</td>\n      <td>5.98</td>\n      <td>34.33</td>\n      <td>28.4</td>\n      <td>8.7</td>\n      <td>10.3</td>\n      <td>1.4</td>\n      <td>0.9</td>\n      <td>4.7</td>\n      <td>LeBron James PG/SF</td>\n    </tr>\n    <tr>\n      <th>1</th>\n      <td>3</td>\n      <td>54.7</td>\n      <td>$10,000</td>\n      <td>5.47</td>\n      <td>34.63</td>\n      <td>27.0</td>\n      <td>9.6</td>\n      <td>9.4</td>\n      <td>1.1</td>\n      <td>0.4</td>\n      <td>3.8</td>\n      <td>Luka Doncic PG</td>\n    </tr>\n    <tr>\n      <th>2</th>\n      <td>5</td>\n      <td>51.8</td>\n      <td>$10,600</td>\n      <td>4.88</td>\n      <td>35.32</td>\n      <td>21.6</td>\n      <td>11.7</td>\n      <td>7.5</td>\n      <td>1.3</td>\n      <td>0.8</td>\n      <td>3.6</td>\n      <td>Nikola Jokic C</td>\n    </tr>\n    <tr>\n      <th>3</th>\n      <td>7</td>\n      <td>50.6</td>\n      <td>$10,200</td>\n      <td>4.96</td>\n      <td>32.67</td>\n      <td>21.8</td>\n      <td>9.4</td>\n      <td>9.8</td>\n      <td>1.6</td>\n      <td>0.4</td>\n      <td>3.3</td>\n      <td>Russell Westbrook PG</td>\n    </tr>\n    <tr>\n      <th>4</th>\n      <td>9</td>\n      <td>50.5</td>\n      <td>$9,600</td>\n      <td>5.26</td>\n      <td>35.19</td>\n      <td>26.8</td>\n      <td>8.5</td>\n      <td>5.5</td>\n      <td>2.1</td>\n      <td>0.6</td>\n      <td>3.0</td>\n      <td>Kawhi Leonard SF</td>\n    </tr>\n  </tbody>\n</table>\n</div>"
     },
     "metadata": {},
     "execution_count": 655
    }
   ],
   "source": [
    "# drop rows that have nan\n",
    "dk_data = dk_data.dropna(axis=0, how='any')\n",
    "dk_data.head()"
   ]
  },
  {
   "cell_type": "code",
   "execution_count": 656,
   "metadata": {},
   "outputs": [],
   "source": [
    "def get_pos(name):\n",
    "    l = name.split(' ')\n",
    "    return l[-1] + '/UTIL'\n",
    "\n",
    "# 'Giannis Antetokounmpo PF'.split('\\xa0')"
   ]
  },
  {
   "cell_type": "code",
   "execution_count": 657,
   "metadata": {},
   "outputs": [],
   "source": [
    "def get_first(name):\n",
    "    l = name.split(' ')\n",
    "    return l[0]\n",
    "\n",
    "def get_last(name):\n",
    "    l = name.split(' ')\n",
    "    return l[1]"
   ]
  },
  {
   "cell_type": "code",
   "execution_count": 658,
   "metadata": {},
   "outputs": [],
   "source": [
    "dk_data['PLAYER_FIRST'] = dk_data['PLAYER_NAME']\n",
    "dk_data['PLAYER_LAST'] = dk_data['PLAYER_NAME']"
   ]
  },
  {
   "cell_type": "code",
   "execution_count": 659,
   "metadata": {},
   "outputs": [
    {
     "output_type": "execute_result",
     "data": {
      "text/plain": [
       "   Unnamed: 0    FP   SALARY  VALUE    MIN   PTS   REB   AST  STL  BLK   TO  \\\n",
       "0           1  60.4  10100.0   5.98  34.33  28.4   8.7  10.3  1.4  0.9  4.7   \n",
       "1           3  54.7  10000.0   5.47  34.63  27.0   9.6   9.4  1.1  0.4  3.8   \n",
       "2           5  51.8  10600.0   4.88  35.32  21.6  11.7   7.5  1.3  0.8  3.6   \n",
       "3           7  50.6  10200.0   4.96  32.67  21.8   9.4   9.8  1.6  0.4  3.3   \n",
       "4           9  50.5   9600.0   5.26  35.19  26.8   8.5   5.5  2.1  0.6  3.0   \n",
       "5          11  48.3   9400.0   5.14  35.39  28.8   3.9   7.7  1.4  0.3  3.0   \n",
       "6          13  47.9   9700.0   4.94  34.08  25.3   9.6   3.2  1.2  1.9  2.5   \n",
       "7          15  46.1   9300.0   4.95  34.17  25.7   7.0   5.2  1.1  0.4  2.2   \n",
       "8          17  45.1   8700.0   5.18  34.02  23.7   6.5   5.3  1.9  0.4  3.4   \n",
       "9          19  45.0   9000.0   5.00  33.97  26.7   4.7   5.6  1.3  0.2  2.4   \n",
       "\n",
       "            PLAYER_NAME PLAYER_FIRST PLAYER_LAST Roster Position  \n",
       "0    LeBron James PG/SF       LeBron       James      PG/SF/UTIL  \n",
       "1        Luka Doncic PG         Luka      Doncic         PG/UTIL  \n",
       "2        Nikola Jokic C       Nikola       Jokic          C/UTIL  \n",
       "3  Russell Westbrook PG      Russell   Westbrook         PG/UTIL  \n",
       "4      Kawhi Leonard SF        Kawhi     Leonard         SF/UTIL  \n",
       "5      Stephen Curry PG      Stephen       Curry         PG/UTIL  \n",
       "6    Anthony Davis PF/C      Anthony       Davis       PF/C/UTIL  \n",
       "7       Kevin Durant PF        Kevin      Durant         PF/UTIL  \n",
       "8        Paul George SG         Paul      George         SG/UTIL  \n",
       "9       Kyrie Irving PG        Kyrie      Irving         PG/UTIL  "
      ],
      "text/html": "<div>\n<style scoped>\n    .dataframe tbody tr th:only-of-type {\n        vertical-align: middle;\n    }\n\n    .dataframe tbody tr th {\n        vertical-align: top;\n    }\n\n    .dataframe thead th {\n        text-align: right;\n    }\n</style>\n<table border=\"1\" class=\"dataframe\">\n  <thead>\n    <tr style=\"text-align: right;\">\n      <th></th>\n      <th>Unnamed: 0</th>\n      <th>FP</th>\n      <th>SALARY</th>\n      <th>VALUE</th>\n      <th>MIN</th>\n      <th>PTS</th>\n      <th>REB</th>\n      <th>AST</th>\n      <th>STL</th>\n      <th>BLK</th>\n      <th>TO</th>\n      <th>PLAYER_NAME</th>\n      <th>PLAYER_FIRST</th>\n      <th>PLAYER_LAST</th>\n      <th>Roster Position</th>\n    </tr>\n  </thead>\n  <tbody>\n    <tr>\n      <th>0</th>\n      <td>1</td>\n      <td>60.4</td>\n      <td>10100.0</td>\n      <td>5.98</td>\n      <td>34.33</td>\n      <td>28.4</td>\n      <td>8.7</td>\n      <td>10.3</td>\n      <td>1.4</td>\n      <td>0.9</td>\n      <td>4.7</td>\n      <td>LeBron James PG/SF</td>\n      <td>LeBron</td>\n      <td>James</td>\n      <td>PG/SF/UTIL</td>\n    </tr>\n    <tr>\n      <th>1</th>\n      <td>3</td>\n      <td>54.7</td>\n      <td>10000.0</td>\n      <td>5.47</td>\n      <td>34.63</td>\n      <td>27.0</td>\n      <td>9.6</td>\n      <td>9.4</td>\n      <td>1.1</td>\n      <td>0.4</td>\n      <td>3.8</td>\n      <td>Luka Doncic PG</td>\n      <td>Luka</td>\n      <td>Doncic</td>\n      <td>PG/UTIL</td>\n    </tr>\n    <tr>\n      <th>2</th>\n      <td>5</td>\n      <td>51.8</td>\n      <td>10600.0</td>\n      <td>4.88</td>\n      <td>35.32</td>\n      <td>21.6</td>\n      <td>11.7</td>\n      <td>7.5</td>\n      <td>1.3</td>\n      <td>0.8</td>\n      <td>3.6</td>\n      <td>Nikola Jokic C</td>\n      <td>Nikola</td>\n      <td>Jokic</td>\n      <td>C/UTIL</td>\n    </tr>\n    <tr>\n      <th>3</th>\n      <td>7</td>\n      <td>50.6</td>\n      <td>10200.0</td>\n      <td>4.96</td>\n      <td>32.67</td>\n      <td>21.8</td>\n      <td>9.4</td>\n      <td>9.8</td>\n      <td>1.6</td>\n      <td>0.4</td>\n      <td>3.3</td>\n      <td>Russell Westbrook PG</td>\n      <td>Russell</td>\n      <td>Westbrook</td>\n      <td>PG/UTIL</td>\n    </tr>\n    <tr>\n      <th>4</th>\n      <td>9</td>\n      <td>50.5</td>\n      <td>9600.0</td>\n      <td>5.26</td>\n      <td>35.19</td>\n      <td>26.8</td>\n      <td>8.5</td>\n      <td>5.5</td>\n      <td>2.1</td>\n      <td>0.6</td>\n      <td>3.0</td>\n      <td>Kawhi Leonard SF</td>\n      <td>Kawhi</td>\n      <td>Leonard</td>\n      <td>SF/UTIL</td>\n    </tr>\n    <tr>\n      <th>5</th>\n      <td>11</td>\n      <td>48.3</td>\n      <td>9400.0</td>\n      <td>5.14</td>\n      <td>35.39</td>\n      <td>28.8</td>\n      <td>3.9</td>\n      <td>7.7</td>\n      <td>1.4</td>\n      <td>0.3</td>\n      <td>3.0</td>\n      <td>Stephen Curry PG</td>\n      <td>Stephen</td>\n      <td>Curry</td>\n      <td>PG/UTIL</td>\n    </tr>\n    <tr>\n      <th>6</th>\n      <td>13</td>\n      <td>47.9</td>\n      <td>9700.0</td>\n      <td>4.94</td>\n      <td>34.08</td>\n      <td>25.3</td>\n      <td>9.6</td>\n      <td>3.2</td>\n      <td>1.2</td>\n      <td>1.9</td>\n      <td>2.5</td>\n      <td>Anthony Davis PF/C</td>\n      <td>Anthony</td>\n      <td>Davis</td>\n      <td>PF/C/UTIL</td>\n    </tr>\n    <tr>\n      <th>7</th>\n      <td>15</td>\n      <td>46.1</td>\n      <td>9300.0</td>\n      <td>4.95</td>\n      <td>34.17</td>\n      <td>25.7</td>\n      <td>7.0</td>\n      <td>5.2</td>\n      <td>1.1</td>\n      <td>0.4</td>\n      <td>2.2</td>\n      <td>Kevin Durant PF</td>\n      <td>Kevin</td>\n      <td>Durant</td>\n      <td>PF/UTIL</td>\n    </tr>\n    <tr>\n      <th>8</th>\n      <td>17</td>\n      <td>45.1</td>\n      <td>8700.0</td>\n      <td>5.18</td>\n      <td>34.02</td>\n      <td>23.7</td>\n      <td>6.5</td>\n      <td>5.3</td>\n      <td>1.9</td>\n      <td>0.4</td>\n      <td>3.4</td>\n      <td>Paul George SG</td>\n      <td>Paul</td>\n      <td>George</td>\n      <td>SG/UTIL</td>\n    </tr>\n    <tr>\n      <th>9</th>\n      <td>19</td>\n      <td>45.0</td>\n      <td>9000.0</td>\n      <td>5.00</td>\n      <td>33.97</td>\n      <td>26.7</td>\n      <td>4.7</td>\n      <td>5.6</td>\n      <td>1.3</td>\n      <td>0.2</td>\n      <td>2.4</td>\n      <td>Kyrie Irving PG</td>\n      <td>Kyrie</td>\n      <td>Irving</td>\n      <td>PG/UTIL</td>\n    </tr>\n  </tbody>\n</table>\n</div>"
     },
     "metadata": {},
     "execution_count": 659
    }
   ],
   "source": [
    "# Get the fields that are useful\n",
    "#dk_data = dk_data[['Name', 'Roster Position', 'Salary', 'TeamAbbrev', 'AvgPointsPerGame']]\n",
    "dk_data['Roster Position'] = dk_data.apply(lambda x: get_pos(x['PLAYER_NAME']),axis=1)\n",
    "dk_data['PLAYER_FIRST'] = dk_data.apply(lambda x: get_first(x['PLAYER_FIRST']),axis=1)\n",
    "dk_data['PLAYER_LAST'] = dk_data.apply(lambda x: get_last(x['PLAYER_LAST']),axis=1)\n",
    "\n",
    "\n",
    "# change $s into int\n",
    "dk_data['SALARY'] = dk_data['SALARY'].replace('[\\$,]', '', regex=True).astype(float)\n",
    "\n",
    "dk_data.head(10)"
   ]
  },
  {
   "cell_type": "code",
   "execution_count": 660,
   "metadata": {},
   "outputs": [
    {
     "output_type": "execute_result",
     "data": {
      "text/plain": [
       "     Unnamed: 0    FP   SALARY  VALUE    MIN   PTS   REB   AST  STL  BLK   TO  \\\n",
       "0             1  60.4  10100.0   5.98  34.33  28.4   8.7  10.3  1.4  0.9  4.7   \n",
       "1             3  54.7  10000.0   5.47  34.63  27.0   9.6   9.4  1.1  0.4  3.8   \n",
       "2             5  51.8  10600.0   4.88  35.32  21.6  11.7   7.5  1.3  0.8  3.6   \n",
       "3             7  50.6  10200.0   4.96  32.67  21.8   9.4   9.8  1.6  0.4  3.3   \n",
       "4             9  50.5   9600.0   5.26  35.19  26.8   8.5   5.5  2.1  0.6  3.0   \n",
       "..          ...   ...      ...    ...    ...   ...   ...   ...  ...  ...  ...   \n",
       "189         387   0.0   5500.0   0.00   0.00   0.0   0.0   0.0  0.0  0.0  0.0   \n",
       "190         389   0.0   3000.0   0.00   0.11   0.0   0.0   0.0  0.0  0.0  0.0   \n",
       "191         391   0.0   3000.0   0.00   0.00   0.0   0.0   0.0  0.0  0.0  0.0   \n",
       "192         393   0.0   3000.0   0.00   0.12   0.0   0.0   0.0  0.0  0.0  0.0   \n",
       "193         395   0.0   3000.0   0.00   0.10   0.0   0.0   0.0  0.0  0.0  0.0   \n",
       "\n",
       "    PLAYER_FIRST PLAYER_LAST Roster Position        PLAYER_NAME  \n",
       "0         LeBron       James      PG/SF/UTIL       LeBron James  \n",
       "1           Luka      Doncic         PG/UTIL        Luka Doncic  \n",
       "2         Nikola       Jokic          C/UTIL       Nikola Jokic  \n",
       "3        Russell   Westbrook         PG/UTIL  Russell Westbrook  \n",
       "4          Kawhi     Leonard         SF/UTIL      Kawhi Leonard  \n",
       "..           ...         ...             ...                ...  \n",
       "189       Marcus      Morris      SF/PF/UTIL      Marcus Morris  \n",
       "190       Damian       Jones          C/UTIL       Damian Jones  \n",
       "191        Abdel       Nader         SF/UTIL        Abdel Nader  \n",
       "192    Cristiano     Felicio          C/UTIL  Cristiano Felicio  \n",
       "193       Elijah      Hughes         SF/UTIL      Elijah Hughes  \n",
       "\n",
       "[194 rows x 15 columns]"
      ],
      "text/html": "<div>\n<style scoped>\n    .dataframe tbody tr th:only-of-type {\n        vertical-align: middle;\n    }\n\n    .dataframe tbody tr th {\n        vertical-align: top;\n    }\n\n    .dataframe thead th {\n        text-align: right;\n    }\n</style>\n<table border=\"1\" class=\"dataframe\">\n  <thead>\n    <tr style=\"text-align: right;\">\n      <th></th>\n      <th>Unnamed: 0</th>\n      <th>FP</th>\n      <th>SALARY</th>\n      <th>VALUE</th>\n      <th>MIN</th>\n      <th>PTS</th>\n      <th>REB</th>\n      <th>AST</th>\n      <th>STL</th>\n      <th>BLK</th>\n      <th>TO</th>\n      <th>PLAYER_FIRST</th>\n      <th>PLAYER_LAST</th>\n      <th>Roster Position</th>\n      <th>PLAYER_NAME</th>\n    </tr>\n  </thead>\n  <tbody>\n    <tr>\n      <th>0</th>\n      <td>1</td>\n      <td>60.4</td>\n      <td>10100.0</td>\n      <td>5.98</td>\n      <td>34.33</td>\n      <td>28.4</td>\n      <td>8.7</td>\n      <td>10.3</td>\n      <td>1.4</td>\n      <td>0.9</td>\n      <td>4.7</td>\n      <td>LeBron</td>\n      <td>James</td>\n      <td>PG/SF/UTIL</td>\n      <td>LeBron James</td>\n    </tr>\n    <tr>\n      <th>1</th>\n      <td>3</td>\n      <td>54.7</td>\n      <td>10000.0</td>\n      <td>5.47</td>\n      <td>34.63</td>\n      <td>27.0</td>\n      <td>9.6</td>\n      <td>9.4</td>\n      <td>1.1</td>\n      <td>0.4</td>\n      <td>3.8</td>\n      <td>Luka</td>\n      <td>Doncic</td>\n      <td>PG/UTIL</td>\n      <td>Luka Doncic</td>\n    </tr>\n    <tr>\n      <th>2</th>\n      <td>5</td>\n      <td>51.8</td>\n      <td>10600.0</td>\n      <td>4.88</td>\n      <td>35.32</td>\n      <td>21.6</td>\n      <td>11.7</td>\n      <td>7.5</td>\n      <td>1.3</td>\n      <td>0.8</td>\n      <td>3.6</td>\n      <td>Nikola</td>\n      <td>Jokic</td>\n      <td>C/UTIL</td>\n      <td>Nikola Jokic</td>\n    </tr>\n    <tr>\n      <th>3</th>\n      <td>7</td>\n      <td>50.6</td>\n      <td>10200.0</td>\n      <td>4.96</td>\n      <td>32.67</td>\n      <td>21.8</td>\n      <td>9.4</td>\n      <td>9.8</td>\n      <td>1.6</td>\n      <td>0.4</td>\n      <td>3.3</td>\n      <td>Russell</td>\n      <td>Westbrook</td>\n      <td>PG/UTIL</td>\n      <td>Russell Westbrook</td>\n    </tr>\n    <tr>\n      <th>4</th>\n      <td>9</td>\n      <td>50.5</td>\n      <td>9600.0</td>\n      <td>5.26</td>\n      <td>35.19</td>\n      <td>26.8</td>\n      <td>8.5</td>\n      <td>5.5</td>\n      <td>2.1</td>\n      <td>0.6</td>\n      <td>3.0</td>\n      <td>Kawhi</td>\n      <td>Leonard</td>\n      <td>SF/UTIL</td>\n      <td>Kawhi Leonard</td>\n    </tr>\n    <tr>\n      <th>...</th>\n      <td>...</td>\n      <td>...</td>\n      <td>...</td>\n      <td>...</td>\n      <td>...</td>\n      <td>...</td>\n      <td>...</td>\n      <td>...</td>\n      <td>...</td>\n      <td>...</td>\n      <td>...</td>\n      <td>...</td>\n      <td>...</td>\n      <td>...</td>\n      <td>...</td>\n    </tr>\n    <tr>\n      <th>189</th>\n      <td>387</td>\n      <td>0.0</td>\n      <td>5500.0</td>\n      <td>0.00</td>\n      <td>0.00</td>\n      <td>0.0</td>\n      <td>0.0</td>\n      <td>0.0</td>\n      <td>0.0</td>\n      <td>0.0</td>\n      <td>0.0</td>\n      <td>Marcus</td>\n      <td>Morris</td>\n      <td>SF/PF/UTIL</td>\n      <td>Marcus Morris</td>\n    </tr>\n    <tr>\n      <th>190</th>\n      <td>389</td>\n      <td>0.0</td>\n      <td>3000.0</td>\n      <td>0.00</td>\n      <td>0.11</td>\n      <td>0.0</td>\n      <td>0.0</td>\n      <td>0.0</td>\n      <td>0.0</td>\n      <td>0.0</td>\n      <td>0.0</td>\n      <td>Damian</td>\n      <td>Jones</td>\n      <td>C/UTIL</td>\n      <td>Damian Jones</td>\n    </tr>\n    <tr>\n      <th>191</th>\n      <td>391</td>\n      <td>0.0</td>\n      <td>3000.0</td>\n      <td>0.00</td>\n      <td>0.00</td>\n      <td>0.0</td>\n      <td>0.0</td>\n      <td>0.0</td>\n      <td>0.0</td>\n      <td>0.0</td>\n      <td>0.0</td>\n      <td>Abdel</td>\n      <td>Nader</td>\n      <td>SF/UTIL</td>\n      <td>Abdel Nader</td>\n    </tr>\n    <tr>\n      <th>192</th>\n      <td>393</td>\n      <td>0.0</td>\n      <td>3000.0</td>\n      <td>0.00</td>\n      <td>0.12</td>\n      <td>0.0</td>\n      <td>0.0</td>\n      <td>0.0</td>\n      <td>0.0</td>\n      <td>0.0</td>\n      <td>0.0</td>\n      <td>Cristiano</td>\n      <td>Felicio</td>\n      <td>C/UTIL</td>\n      <td>Cristiano Felicio</td>\n    </tr>\n    <tr>\n      <th>193</th>\n      <td>395</td>\n      <td>0.0</td>\n      <td>3000.0</td>\n      <td>0.00</td>\n      <td>0.10</td>\n      <td>0.0</td>\n      <td>0.0</td>\n      <td>0.0</td>\n      <td>0.0</td>\n      <td>0.0</td>\n      <td>0.0</td>\n      <td>Elijah</td>\n      <td>Hughes</td>\n      <td>SF/UTIL</td>\n      <td>Elijah Hughes</td>\n    </tr>\n  </tbody>\n</table>\n<p>194 rows × 15 columns</p>\n</div>"
     },
     "metadata": {},
     "execution_count": 660
    }
   ],
   "source": [
    "del dk_data['PLAYER_NAME']\n",
    "dk_data['PLAYER_NAME'] = dk_data['PLAYER_FIRST'] + ' ' + dk_data['PLAYER_LAST']\n",
    "dk_data"
   ]
  },
  {
   "cell_type": "code",
   "execution_count": 661,
   "metadata": {},
   "outputs": [
    {
     "output_type": "execute_result",
     "data": {
      "text/plain": [
       "['LeBron James', 'Luka Doncic', 'test']"
      ]
     },
     "metadata": {},
     "execution_count": 661
    }
   ],
   "source": [
    "injured_players = ['LeBron James', 'Luka Doncic', 'test']\n",
    "injured_players"
   ]
  },
  {
   "cell_type": "code",
   "execution_count": 662,
   "metadata": {},
   "outputs": [
    {
     "output_type": "execute_result",
     "data": {
      "text/plain": [
       "   Unnamed: 0    FP   SALARY  VALUE    MIN   PTS  REB   AST  STL  BLK   TO  \\\n",
       "0           1  60.4  10100.0   5.98  34.33  28.4  8.7  10.3  1.4  0.9  4.7   \n",
       "1           3  54.7  10000.0   5.47  34.63  27.0  9.6   9.4  1.1  0.4  3.8   \n",
       "\n",
       "  PLAYER_FIRST PLAYER_LAST Roster Position   PLAYER_NAME  \n",
       "0       LeBron       James      PG/SF/UTIL  LeBron James  \n",
       "1         Luka      Doncic         PG/UTIL   Luka Doncic  "
      ],
      "text/html": "<div>\n<style scoped>\n    .dataframe tbody tr th:only-of-type {\n        vertical-align: middle;\n    }\n\n    .dataframe tbody tr th {\n        vertical-align: top;\n    }\n\n    .dataframe thead th {\n        text-align: right;\n    }\n</style>\n<table border=\"1\" class=\"dataframe\">\n  <thead>\n    <tr style=\"text-align: right;\">\n      <th></th>\n      <th>Unnamed: 0</th>\n      <th>FP</th>\n      <th>SALARY</th>\n      <th>VALUE</th>\n      <th>MIN</th>\n      <th>PTS</th>\n      <th>REB</th>\n      <th>AST</th>\n      <th>STL</th>\n      <th>BLK</th>\n      <th>TO</th>\n      <th>PLAYER_FIRST</th>\n      <th>PLAYER_LAST</th>\n      <th>Roster Position</th>\n      <th>PLAYER_NAME</th>\n    </tr>\n  </thead>\n  <tbody>\n    <tr>\n      <th>0</th>\n      <td>1</td>\n      <td>60.4</td>\n      <td>10100.0</td>\n      <td>5.98</td>\n      <td>34.33</td>\n      <td>28.4</td>\n      <td>8.7</td>\n      <td>10.3</td>\n      <td>1.4</td>\n      <td>0.9</td>\n      <td>4.7</td>\n      <td>LeBron</td>\n      <td>James</td>\n      <td>PG/SF/UTIL</td>\n      <td>LeBron James</td>\n    </tr>\n    <tr>\n      <th>1</th>\n      <td>3</td>\n      <td>54.7</td>\n      <td>10000.0</td>\n      <td>5.47</td>\n      <td>34.63</td>\n      <td>27.0</td>\n      <td>9.6</td>\n      <td>9.4</td>\n      <td>1.1</td>\n      <td>0.4</td>\n      <td>3.8</td>\n      <td>Luka</td>\n      <td>Doncic</td>\n      <td>PG/UTIL</td>\n      <td>Luka Doncic</td>\n    </tr>\n  </tbody>\n</table>\n</div>"
     },
     "metadata": {},
     "execution_count": 662
    }
   ],
   "source": [
    "dk_data[dk_data['PLAYER_NAME'].isin(injured_players)]"
   ]
  },
  {
   "cell_type": "code",
   "execution_count": 663,
   "metadata": {},
   "outputs": [],
   "source": [
    "dk_data = dk_data[~dk_data['PLAYER_NAME'].isin(injured_players)]"
   ]
  },
  {
   "cell_type": "code",
   "execution_count": 664,
   "metadata": {},
   "outputs": [],
   "source": [
    "# Roster Positions for NBA \n",
    "nba_roster_positions = ['PG', 'SG', 'SF', 'PF', 'C', 'G', 'F', 'UTIL']\n",
    "\n",
    "SALARY_CAP = SALARY_CAP\n",
    "MAX_PLAYERS = MAX_PLAYERS\n",
    "\n",
    "\n",
    "def make_vars(name, position, roster_position):\n",
    "    if position in roster_position:\n",
    "        return LpVariable(name + '_' + position,lowBound=0, cat='Binary')\n",
    "    return 0\n",
    "\n",
    "for position in nba_roster_positions:\n",
    "    dk_data[position] = dk_data.apply(lambda x: make_vars(x['PLAYER_NAME'],position, x['Roster Position']),axis=1)\n",
    "\n",
    "    #[1 if position in x else 0 for x in dk_data['Roster Position']]"
   ]
  },
  {
   "cell_type": "code",
   "execution_count": 665,
   "metadata": {},
   "outputs": [],
   "source": [
    "prob = LpProblem(\"OptimizeDK\",LpMaximize)"
   ]
  },
  {
   "cell_type": "code",
   "execution_count": 666,
   "metadata": {},
   "outputs": [],
   "source": [
    "names = dk_data['PLAYER_NAME']\n",
    "salaries = dk_data['SALARY']\n",
    "projected_points = dk_data['FP']"
   ]
  },
  {
   "cell_type": "code",
   "execution_count": 667,
   "metadata": {},
   "outputs": [],
   "source": [
    "dk_data_check = dk_data"
   ]
  },
  {
   "cell_type": "code",
   "execution_count": 668,
   "metadata": {},
   "outputs": [
    {
     "output_type": "execute_result",
     "data": {
      "text/plain": [
       "    Unnamed: 0    FP   SALARY  VALUE    MIN   PTS   REB  AST  STL  BLK  ...  \\\n",
       "2            5  51.8  10600.0   4.88  35.32  21.6  11.7  7.5  1.3  0.8  ...   \n",
       "3            7  50.6  10200.0   4.96  32.67  21.8   9.4  9.8  1.6  0.4  ...   \n",
       "4            9  50.5   9600.0   5.26  35.19  26.8   8.5  5.5  2.1  0.6  ...   \n",
       "5           11  48.3   9400.0   5.14  35.39  28.8   3.9  7.7  1.4  0.3  ...   \n",
       "6           13  47.9   9700.0   4.94  34.08  25.3   9.6  3.2  1.2  1.9  ...   \n",
       "7           15  46.1   9300.0   4.95  34.17  25.7   7.0  5.2  1.1  0.4  ...   \n",
       "8           17  45.1   8700.0   5.18  34.02  23.7   6.5  5.3  1.9  0.4  ...   \n",
       "9           19  45.0   9000.0   5.00  33.97  26.7   4.7  5.6  1.3  0.2  ...   \n",
       "10          21  44.5   9800.0   4.54  35.71  27.0   4.6  6.8  0.8  0.3  ...   \n",
       "11          23  43.5   7100.0   6.12  34.82  27.9   4.5  4.4  1.1  0.2  ...   \n",
       "12          25  43.3   9100.0   4.76  35.93  28.1   3.7  5.1  1.3  0.3  ...   \n",
       "13          27  39.8   7700.0   5.16  34.29  21.2   4.4  7.9  0.7  0.3  ...   \n",
       "14          29  39.5   7300.0   5.41  34.80  24.4   4.1  4.6  1.4  0.4  ...   \n",
       "15          33  37.8   8400.0   4.50  35.67  22.8   3.9  4.0  1.0  0.7  ...   \n",
       "16          35  37.4   7400.0   5.05  32.07  20.1   3.7  6.3  1.2  0.3  ...   \n",
       "17          37  37.3   7000.0   5.33  32.59  16.2   4.6  8.6  1.7  0.1  ...   \n",
       "18          39  36.5   7500.0   4.87  34.02  19.5   4.9  6.4  1.0  0.3  ...   \n",
       "19          41  36.1   7200.0   5.02  30.71  14.0  12.3  1.1  0.6  1.6  ...   \n",
       "20          43  35.7   7100.0   5.03  30.27  16.4  10.4  1.5  0.6  1.2  ...   \n",
       "21          45  35.5   6700.0   5.29  31.06  14.8   6.8  5.5  2.1  0.2  ...   \n",
       "22          47  34.7   5400.0   6.43  33.34  14.7   7.6  4.6  1.3  0.7  ...   \n",
       "23          49  34.6   6600.0   5.24  32.25  15.5   8.8  1.8  0.7  2.0  ...   \n",
       "24          51  33.4   8000.0   4.18  29.07  13.6  10.0  2.0  0.6  1.0  ...   \n",
       "25          53  33.3   6900.0   4.82  33.59  17.8   3.0  5.6  0.9  0.1  ...   \n",
       "26          55  32.7   6800.0   4.81  33.39  18.7   2.9  5.6  0.9  0.2  ...   \n",
       "27          57  31.9   6200.0   5.15  30.17  15.2   8.5  1.9  0.4  1.2  ...   \n",
       "28          59  31.9   6400.0   4.98  26.34  13.6   9.2  1.9  0.7  1.4  ...   \n",
       "29          61  31.6   6900.0   4.58  33.52  17.8   5.9  2.6  0.9  0.6  ...   \n",
       "30          63  31.4   5900.0   5.32  32.49  21.1   4.0  2.2  0.5  0.1  ...   \n",
       "31          65  30.8   3900.0   7.90  19.78  13.3   8.2  1.5  1.1  1.1  ...   \n",
       "\n",
       "    Roster Position        PLAYER_NAME                    PG  \\\n",
       "2            C/UTIL       Nikola Jokic                     0   \n",
       "3           PG/UTIL  Russell Westbrook  Russell_Westbrook_PG   \n",
       "4           SF/UTIL      Kawhi Leonard                     0   \n",
       "5           PG/UTIL      Stephen Curry      Stephen_Curry_PG   \n",
       "6         PF/C/UTIL      Anthony Davis                     0   \n",
       "7           PF/UTIL       Kevin Durant                     0   \n",
       "8           SG/UTIL        Paul George                     0   \n",
       "9           PG/UTIL       Kyrie Irving       Kyrie_Irving_PG   \n",
       "10          PG/UTIL     Damian Lillard     Damian_Lillard_PG   \n",
       "11       PG/SG/UTIL   Donovan Mitchell   Donovan_Mitchell_PG   \n",
       "12          SG/UTIL       Bradley Beal                     0   \n",
       "13          SG/UTIL       Devin Booker                     0   \n",
       "14          SG/UTIL        Zach LaVine                     0   \n",
       "15          PG/UTIL       Jamal Murray       Jamal_Murray_PG   \n",
       "16       PG/SG/UTIL   D'Angelo Russell   D'Angelo_Russell_PG   \n",
       "17          PG/UTIL         Chris Paul         Chris_Paul_PG   \n",
       "18       SF/PF/UTIL      DeMar DeRozan                     0   \n",
       "19           C/UTIL        Rudy Gobert                     0   \n",
       "20           C/UTIL      Deandre Ayton                     0   \n",
       "21          PG/UTIL    Dejounte Murray    Dejounte_Murray_PG   \n",
       "22       SG/SF/UTIL        Will Barton                     0   \n",
       "23           C/UTIL      Thomas Bryant                     0   \n",
       "24           C/UTIL  Jonas Valanciunas                     0   \n",
       "25          PG/UTIL        Mike Conley        Mike_Conley_PG   \n",
       "26       PG/SG/UTIL    Dennis Schroder    Dennis_Schroder_PG   \n",
       "27           C/UTIL  LaMarcus Aldridge                     0   \n",
       "28           C/UTIL       Jusuf Nurkic                     0   \n",
       "29       SG/SF/UTIL     Andrew Wiggins                     0   \n",
       "30       SF/PF/UTIL   Bojan Bogdanovic                     0   \n",
       "31           C/UTIL       Gorgui Dieng                     0   \n",
       "\n",
       "                     SG                   SF                   PF  \\\n",
       "2                     0                    0                    0   \n",
       "3                     0                    0                    0   \n",
       "4                     0     Kawhi_Leonard_SF                    0   \n",
       "5                     0                    0                    0   \n",
       "6                     0                    0     Anthony_Davis_PF   \n",
       "7                     0                    0      Kevin_Durant_PF   \n",
       "8        Paul_George_SG                    0                    0   \n",
       "9                     0                    0                    0   \n",
       "10                    0                    0                    0   \n",
       "11  Donovan_Mitchell_SG                    0                    0   \n",
       "12      Bradley_Beal_SG                    0                    0   \n",
       "13      Devin_Booker_SG                    0                    0   \n",
       "14       Zach_LaVine_SG                    0                    0   \n",
       "15                    0                    0                    0   \n",
       "16  D'Angelo_Russell_SG                    0                    0   \n",
       "17                    0                    0                    0   \n",
       "18                    0     DeMar_DeRozan_SF     DeMar_DeRozan_PF   \n",
       "19                    0                    0                    0   \n",
       "20                    0                    0                    0   \n",
       "21                    0                    0                    0   \n",
       "22       Will_Barton_SG       Will_Barton_SF                    0   \n",
       "23                    0                    0                    0   \n",
       "24                    0                    0                    0   \n",
       "25                    0                    0                    0   \n",
       "26   Dennis_Schroder_SG                    0                    0   \n",
       "27                    0                    0                    0   \n",
       "28                    0                    0                    0   \n",
       "29    Andrew_Wiggins_SG    Andrew_Wiggins_SF                    0   \n",
       "30                    0  Bojan_Bogdanovic_SF  Bojan_Bogdanovic_PF   \n",
       "31                    0                    0                    0   \n",
       "\n",
       "                      C                    G                   F  \\\n",
       "2        Nikola_Jokic_C                    0                   0   \n",
       "3                     0  Russell_Westbrook_G                   0   \n",
       "4                     0                    0     Kawhi_Leonard_F   \n",
       "5                     0      Stephen_Curry_G                   0   \n",
       "6       Anthony_Davis_C                    0     Anthony_Davis_F   \n",
       "7                     0                    0      Kevin_Durant_F   \n",
       "8                     0        Paul_George_G                   0   \n",
       "9                     0       Kyrie_Irving_G                   0   \n",
       "10                    0     Damian_Lillard_G                   0   \n",
       "11                    0   Donovan_Mitchell_G                   0   \n",
       "12                    0       Bradley_Beal_G                   0   \n",
       "13                    0       Devin_Booker_G                   0   \n",
       "14                    0        Zach_LaVine_G                   0   \n",
       "15                    0       Jamal_Murray_G                   0   \n",
       "16                    0   D'Angelo_Russell_G                   0   \n",
       "17                    0         Chris_Paul_G                   0   \n",
       "18                    0                    0     DeMar_DeRozan_F   \n",
       "19        Rudy_Gobert_C                    0                   0   \n",
       "20      Deandre_Ayton_C                    0                   0   \n",
       "21                    0    Dejounte_Murray_G                   0   \n",
       "22                    0        Will_Barton_G       Will_Barton_F   \n",
       "23      Thomas_Bryant_C                    0                   0   \n",
       "24  Jonas_Valanciunas_C                    0                   0   \n",
       "25                    0        Mike_Conley_G                   0   \n",
       "26                    0    Dennis_Schroder_G                   0   \n",
       "27  LaMarcus_Aldridge_C                    0                   0   \n",
       "28       Jusuf_Nurkic_C                    0                   0   \n",
       "29                    0     Andrew_Wiggins_G    Andrew_Wiggins_F   \n",
       "30                    0                    0  Bojan_Bogdanovic_F   \n",
       "31       Gorgui_Dieng_C                    0                   0   \n",
       "\n",
       "                      UTIL  \n",
       "2        Nikola_Jokic_UTIL  \n",
       "3   Russell_Westbrook_UTIL  \n",
       "4       Kawhi_Leonard_UTIL  \n",
       "5       Stephen_Curry_UTIL  \n",
       "6       Anthony_Davis_UTIL  \n",
       "7        Kevin_Durant_UTIL  \n",
       "8         Paul_George_UTIL  \n",
       "9        Kyrie_Irving_UTIL  \n",
       "10     Damian_Lillard_UTIL  \n",
       "11   Donovan_Mitchell_UTIL  \n",
       "12       Bradley_Beal_UTIL  \n",
       "13       Devin_Booker_UTIL  \n",
       "14        Zach_LaVine_UTIL  \n",
       "15       Jamal_Murray_UTIL  \n",
       "16   D'Angelo_Russell_UTIL  \n",
       "17         Chris_Paul_UTIL  \n",
       "18      DeMar_DeRozan_UTIL  \n",
       "19        Rudy_Gobert_UTIL  \n",
       "20      Deandre_Ayton_UTIL  \n",
       "21    Dejounte_Murray_UTIL  \n",
       "22        Will_Barton_UTIL  \n",
       "23      Thomas_Bryant_UTIL  \n",
       "24  Jonas_Valanciunas_UTIL  \n",
       "25        Mike_Conley_UTIL  \n",
       "26    Dennis_Schroder_UTIL  \n",
       "27  LaMarcus_Aldridge_UTIL  \n",
       "28       Jusuf_Nurkic_UTIL  \n",
       "29     Andrew_Wiggins_UTIL  \n",
       "30   Bojan_Bogdanovic_UTIL  \n",
       "31       Gorgui_Dieng_UTIL  \n",
       "\n",
       "[30 rows x 23 columns]"
      ],
      "text/html": "<div>\n<style scoped>\n    .dataframe tbody tr th:only-of-type {\n        vertical-align: middle;\n    }\n\n    .dataframe tbody tr th {\n        vertical-align: top;\n    }\n\n    .dataframe thead th {\n        text-align: right;\n    }\n</style>\n<table border=\"1\" class=\"dataframe\">\n  <thead>\n    <tr style=\"text-align: right;\">\n      <th></th>\n      <th>Unnamed: 0</th>\n      <th>FP</th>\n      <th>SALARY</th>\n      <th>VALUE</th>\n      <th>MIN</th>\n      <th>PTS</th>\n      <th>REB</th>\n      <th>AST</th>\n      <th>STL</th>\n      <th>BLK</th>\n      <th>...</th>\n      <th>Roster Position</th>\n      <th>PLAYER_NAME</th>\n      <th>PG</th>\n      <th>SG</th>\n      <th>SF</th>\n      <th>PF</th>\n      <th>C</th>\n      <th>G</th>\n      <th>F</th>\n      <th>UTIL</th>\n    </tr>\n  </thead>\n  <tbody>\n    <tr>\n      <th>2</th>\n      <td>5</td>\n      <td>51.8</td>\n      <td>10600.0</td>\n      <td>4.88</td>\n      <td>35.32</td>\n      <td>21.6</td>\n      <td>11.7</td>\n      <td>7.5</td>\n      <td>1.3</td>\n      <td>0.8</td>\n      <td>...</td>\n      <td>C/UTIL</td>\n      <td>Nikola Jokic</td>\n      <td>0</td>\n      <td>0</td>\n      <td>0</td>\n      <td>0</td>\n      <td>Nikola_Jokic_C</td>\n      <td>0</td>\n      <td>0</td>\n      <td>Nikola_Jokic_UTIL</td>\n    </tr>\n    <tr>\n      <th>3</th>\n      <td>7</td>\n      <td>50.6</td>\n      <td>10200.0</td>\n      <td>4.96</td>\n      <td>32.67</td>\n      <td>21.8</td>\n      <td>9.4</td>\n      <td>9.8</td>\n      <td>1.6</td>\n      <td>0.4</td>\n      <td>...</td>\n      <td>PG/UTIL</td>\n      <td>Russell Westbrook</td>\n      <td>Russell_Westbrook_PG</td>\n      <td>0</td>\n      <td>0</td>\n      <td>0</td>\n      <td>0</td>\n      <td>Russell_Westbrook_G</td>\n      <td>0</td>\n      <td>Russell_Westbrook_UTIL</td>\n    </tr>\n    <tr>\n      <th>4</th>\n      <td>9</td>\n      <td>50.5</td>\n      <td>9600.0</td>\n      <td>5.26</td>\n      <td>35.19</td>\n      <td>26.8</td>\n      <td>8.5</td>\n      <td>5.5</td>\n      <td>2.1</td>\n      <td>0.6</td>\n      <td>...</td>\n      <td>SF/UTIL</td>\n      <td>Kawhi Leonard</td>\n      <td>0</td>\n      <td>0</td>\n      <td>Kawhi_Leonard_SF</td>\n      <td>0</td>\n      <td>0</td>\n      <td>0</td>\n      <td>Kawhi_Leonard_F</td>\n      <td>Kawhi_Leonard_UTIL</td>\n    </tr>\n    <tr>\n      <th>5</th>\n      <td>11</td>\n      <td>48.3</td>\n      <td>9400.0</td>\n      <td>5.14</td>\n      <td>35.39</td>\n      <td>28.8</td>\n      <td>3.9</td>\n      <td>7.7</td>\n      <td>1.4</td>\n      <td>0.3</td>\n      <td>...</td>\n      <td>PG/UTIL</td>\n      <td>Stephen Curry</td>\n      <td>Stephen_Curry_PG</td>\n      <td>0</td>\n      <td>0</td>\n      <td>0</td>\n      <td>0</td>\n      <td>Stephen_Curry_G</td>\n      <td>0</td>\n      <td>Stephen_Curry_UTIL</td>\n    </tr>\n    <tr>\n      <th>6</th>\n      <td>13</td>\n      <td>47.9</td>\n      <td>9700.0</td>\n      <td>4.94</td>\n      <td>34.08</td>\n      <td>25.3</td>\n      <td>9.6</td>\n      <td>3.2</td>\n      <td>1.2</td>\n      <td>1.9</td>\n      <td>...</td>\n      <td>PF/C/UTIL</td>\n      <td>Anthony Davis</td>\n      <td>0</td>\n      <td>0</td>\n      <td>0</td>\n      <td>Anthony_Davis_PF</td>\n      <td>Anthony_Davis_C</td>\n      <td>0</td>\n      <td>Anthony_Davis_F</td>\n      <td>Anthony_Davis_UTIL</td>\n    </tr>\n    <tr>\n      <th>7</th>\n      <td>15</td>\n      <td>46.1</td>\n      <td>9300.0</td>\n      <td>4.95</td>\n      <td>34.17</td>\n      <td>25.7</td>\n      <td>7.0</td>\n      <td>5.2</td>\n      <td>1.1</td>\n      <td>0.4</td>\n      <td>...</td>\n      <td>PF/UTIL</td>\n      <td>Kevin Durant</td>\n      <td>0</td>\n      <td>0</td>\n      <td>0</td>\n      <td>Kevin_Durant_PF</td>\n      <td>0</td>\n      <td>0</td>\n      <td>Kevin_Durant_F</td>\n      <td>Kevin_Durant_UTIL</td>\n    </tr>\n    <tr>\n      <th>8</th>\n      <td>17</td>\n      <td>45.1</td>\n      <td>8700.0</td>\n      <td>5.18</td>\n      <td>34.02</td>\n      <td>23.7</td>\n      <td>6.5</td>\n      <td>5.3</td>\n      <td>1.9</td>\n      <td>0.4</td>\n      <td>...</td>\n      <td>SG/UTIL</td>\n      <td>Paul George</td>\n      <td>0</td>\n      <td>Paul_George_SG</td>\n      <td>0</td>\n      <td>0</td>\n      <td>0</td>\n      <td>Paul_George_G</td>\n      <td>0</td>\n      <td>Paul_George_UTIL</td>\n    </tr>\n    <tr>\n      <th>9</th>\n      <td>19</td>\n      <td>45.0</td>\n      <td>9000.0</td>\n      <td>5.00</td>\n      <td>33.97</td>\n      <td>26.7</td>\n      <td>4.7</td>\n      <td>5.6</td>\n      <td>1.3</td>\n      <td>0.2</td>\n      <td>...</td>\n      <td>PG/UTIL</td>\n      <td>Kyrie Irving</td>\n      <td>Kyrie_Irving_PG</td>\n      <td>0</td>\n      <td>0</td>\n      <td>0</td>\n      <td>0</td>\n      <td>Kyrie_Irving_G</td>\n      <td>0</td>\n      <td>Kyrie_Irving_UTIL</td>\n    </tr>\n    <tr>\n      <th>10</th>\n      <td>21</td>\n      <td>44.5</td>\n      <td>9800.0</td>\n      <td>4.54</td>\n      <td>35.71</td>\n      <td>27.0</td>\n      <td>4.6</td>\n      <td>6.8</td>\n      <td>0.8</td>\n      <td>0.3</td>\n      <td>...</td>\n      <td>PG/UTIL</td>\n      <td>Damian Lillard</td>\n      <td>Damian_Lillard_PG</td>\n      <td>0</td>\n      <td>0</td>\n      <td>0</td>\n      <td>0</td>\n      <td>Damian_Lillard_G</td>\n      <td>0</td>\n      <td>Damian_Lillard_UTIL</td>\n    </tr>\n    <tr>\n      <th>11</th>\n      <td>23</td>\n      <td>43.5</td>\n      <td>7100.0</td>\n      <td>6.12</td>\n      <td>34.82</td>\n      <td>27.9</td>\n      <td>4.5</td>\n      <td>4.4</td>\n      <td>1.1</td>\n      <td>0.2</td>\n      <td>...</td>\n      <td>PG/SG/UTIL</td>\n      <td>Donovan Mitchell</td>\n      <td>Donovan_Mitchell_PG</td>\n      <td>Donovan_Mitchell_SG</td>\n      <td>0</td>\n      <td>0</td>\n      <td>0</td>\n      <td>Donovan_Mitchell_G</td>\n      <td>0</td>\n      <td>Donovan_Mitchell_UTIL</td>\n    </tr>\n    <tr>\n      <th>12</th>\n      <td>25</td>\n      <td>43.3</td>\n      <td>9100.0</td>\n      <td>4.76</td>\n      <td>35.93</td>\n      <td>28.1</td>\n      <td>3.7</td>\n      <td>5.1</td>\n      <td>1.3</td>\n      <td>0.3</td>\n      <td>...</td>\n      <td>SG/UTIL</td>\n      <td>Bradley Beal</td>\n      <td>0</td>\n      <td>Bradley_Beal_SG</td>\n      <td>0</td>\n      <td>0</td>\n      <td>0</td>\n      <td>Bradley_Beal_G</td>\n      <td>0</td>\n      <td>Bradley_Beal_UTIL</td>\n    </tr>\n    <tr>\n      <th>13</th>\n      <td>27</td>\n      <td>39.8</td>\n      <td>7700.0</td>\n      <td>5.16</td>\n      <td>34.29</td>\n      <td>21.2</td>\n      <td>4.4</td>\n      <td>7.9</td>\n      <td>0.7</td>\n      <td>0.3</td>\n      <td>...</td>\n      <td>SG/UTIL</td>\n      <td>Devin Booker</td>\n      <td>0</td>\n      <td>Devin_Booker_SG</td>\n      <td>0</td>\n      <td>0</td>\n      <td>0</td>\n      <td>Devin_Booker_G</td>\n      <td>0</td>\n      <td>Devin_Booker_UTIL</td>\n    </tr>\n    <tr>\n      <th>14</th>\n      <td>29</td>\n      <td>39.5</td>\n      <td>7300.0</td>\n      <td>5.41</td>\n      <td>34.80</td>\n      <td>24.4</td>\n      <td>4.1</td>\n      <td>4.6</td>\n      <td>1.4</td>\n      <td>0.4</td>\n      <td>...</td>\n      <td>SG/UTIL</td>\n      <td>Zach LaVine</td>\n      <td>0</td>\n      <td>Zach_LaVine_SG</td>\n      <td>0</td>\n      <td>0</td>\n      <td>0</td>\n      <td>Zach_LaVine_G</td>\n      <td>0</td>\n      <td>Zach_LaVine_UTIL</td>\n    </tr>\n    <tr>\n      <th>15</th>\n      <td>33</td>\n      <td>37.8</td>\n      <td>8400.0</td>\n      <td>4.50</td>\n      <td>35.67</td>\n      <td>22.8</td>\n      <td>3.9</td>\n      <td>4.0</td>\n      <td>1.0</td>\n      <td>0.7</td>\n      <td>...</td>\n      <td>PG/UTIL</td>\n      <td>Jamal Murray</td>\n      <td>Jamal_Murray_PG</td>\n      <td>0</td>\n      <td>0</td>\n      <td>0</td>\n      <td>0</td>\n      <td>Jamal_Murray_G</td>\n      <td>0</td>\n      <td>Jamal_Murray_UTIL</td>\n    </tr>\n    <tr>\n      <th>16</th>\n      <td>35</td>\n      <td>37.4</td>\n      <td>7400.0</td>\n      <td>5.05</td>\n      <td>32.07</td>\n      <td>20.1</td>\n      <td>3.7</td>\n      <td>6.3</td>\n      <td>1.2</td>\n      <td>0.3</td>\n      <td>...</td>\n      <td>PG/SG/UTIL</td>\n      <td>D'Angelo Russell</td>\n      <td>D'Angelo_Russell_PG</td>\n      <td>D'Angelo_Russell_SG</td>\n      <td>0</td>\n      <td>0</td>\n      <td>0</td>\n      <td>D'Angelo_Russell_G</td>\n      <td>0</td>\n      <td>D'Angelo_Russell_UTIL</td>\n    </tr>\n    <tr>\n      <th>17</th>\n      <td>37</td>\n      <td>37.3</td>\n      <td>7000.0</td>\n      <td>5.33</td>\n      <td>32.59</td>\n      <td>16.2</td>\n      <td>4.6</td>\n      <td>8.6</td>\n      <td>1.7</td>\n      <td>0.1</td>\n      <td>...</td>\n      <td>PG/UTIL</td>\n      <td>Chris Paul</td>\n      <td>Chris_Paul_PG</td>\n      <td>0</td>\n      <td>0</td>\n      <td>0</td>\n      <td>0</td>\n      <td>Chris_Paul_G</td>\n      <td>0</td>\n      <td>Chris_Paul_UTIL</td>\n    </tr>\n    <tr>\n      <th>18</th>\n      <td>39</td>\n      <td>36.5</td>\n      <td>7500.0</td>\n      <td>4.87</td>\n      <td>34.02</td>\n      <td>19.5</td>\n      <td>4.9</td>\n      <td>6.4</td>\n      <td>1.0</td>\n      <td>0.3</td>\n      <td>...</td>\n      <td>SF/PF/UTIL</td>\n      <td>DeMar DeRozan</td>\n      <td>0</td>\n      <td>0</td>\n      <td>DeMar_DeRozan_SF</td>\n      <td>DeMar_DeRozan_PF</td>\n      <td>0</td>\n      <td>0</td>\n      <td>DeMar_DeRozan_F</td>\n      <td>DeMar_DeRozan_UTIL</td>\n    </tr>\n    <tr>\n      <th>19</th>\n      <td>41</td>\n      <td>36.1</td>\n      <td>7200.0</td>\n      <td>5.02</td>\n      <td>30.71</td>\n      <td>14.0</td>\n      <td>12.3</td>\n      <td>1.1</td>\n      <td>0.6</td>\n      <td>1.6</td>\n      <td>...</td>\n      <td>C/UTIL</td>\n      <td>Rudy Gobert</td>\n      <td>0</td>\n      <td>0</td>\n      <td>0</td>\n      <td>0</td>\n      <td>Rudy_Gobert_C</td>\n      <td>0</td>\n      <td>0</td>\n      <td>Rudy_Gobert_UTIL</td>\n    </tr>\n    <tr>\n      <th>20</th>\n      <td>43</td>\n      <td>35.7</td>\n      <td>7100.0</td>\n      <td>5.03</td>\n      <td>30.27</td>\n      <td>16.4</td>\n      <td>10.4</td>\n      <td>1.5</td>\n      <td>0.6</td>\n      <td>1.2</td>\n      <td>...</td>\n      <td>C/UTIL</td>\n      <td>Deandre Ayton</td>\n      <td>0</td>\n      <td>0</td>\n      <td>0</td>\n      <td>0</td>\n      <td>Deandre_Ayton_C</td>\n      <td>0</td>\n      <td>0</td>\n      <td>Deandre_Ayton_UTIL</td>\n    </tr>\n    <tr>\n      <th>21</th>\n      <td>45</td>\n      <td>35.5</td>\n      <td>6700.0</td>\n      <td>5.29</td>\n      <td>31.06</td>\n      <td>14.8</td>\n      <td>6.8</td>\n      <td>5.5</td>\n      <td>2.1</td>\n      <td>0.2</td>\n      <td>...</td>\n      <td>PG/UTIL</td>\n      <td>Dejounte Murray</td>\n      <td>Dejounte_Murray_PG</td>\n      <td>0</td>\n      <td>0</td>\n      <td>0</td>\n      <td>0</td>\n      <td>Dejounte_Murray_G</td>\n      <td>0</td>\n      <td>Dejounte_Murray_UTIL</td>\n    </tr>\n    <tr>\n      <th>22</th>\n      <td>47</td>\n      <td>34.7</td>\n      <td>5400.0</td>\n      <td>6.43</td>\n      <td>33.34</td>\n      <td>14.7</td>\n      <td>7.6</td>\n      <td>4.6</td>\n      <td>1.3</td>\n      <td>0.7</td>\n      <td>...</td>\n      <td>SG/SF/UTIL</td>\n      <td>Will Barton</td>\n      <td>0</td>\n      <td>Will_Barton_SG</td>\n      <td>Will_Barton_SF</td>\n      <td>0</td>\n      <td>0</td>\n      <td>Will_Barton_G</td>\n      <td>Will_Barton_F</td>\n      <td>Will_Barton_UTIL</td>\n    </tr>\n    <tr>\n      <th>23</th>\n      <td>49</td>\n      <td>34.6</td>\n      <td>6600.0</td>\n      <td>5.24</td>\n      <td>32.25</td>\n      <td>15.5</td>\n      <td>8.8</td>\n      <td>1.8</td>\n      <td>0.7</td>\n      <td>2.0</td>\n      <td>...</td>\n      <td>C/UTIL</td>\n      <td>Thomas Bryant</td>\n      <td>0</td>\n      <td>0</td>\n      <td>0</td>\n      <td>0</td>\n      <td>Thomas_Bryant_C</td>\n      <td>0</td>\n      <td>0</td>\n      <td>Thomas_Bryant_UTIL</td>\n    </tr>\n    <tr>\n      <th>24</th>\n      <td>51</td>\n      <td>33.4</td>\n      <td>8000.0</td>\n      <td>4.18</td>\n      <td>29.07</td>\n      <td>13.6</td>\n      <td>10.0</td>\n      <td>2.0</td>\n      <td>0.6</td>\n      <td>1.0</td>\n      <td>...</td>\n      <td>C/UTIL</td>\n      <td>Jonas Valanciunas</td>\n      <td>0</td>\n      <td>0</td>\n      <td>0</td>\n      <td>0</td>\n      <td>Jonas_Valanciunas_C</td>\n      <td>0</td>\n      <td>0</td>\n      <td>Jonas_Valanciunas_UTIL</td>\n    </tr>\n    <tr>\n      <th>25</th>\n      <td>53</td>\n      <td>33.3</td>\n      <td>6900.0</td>\n      <td>4.82</td>\n      <td>33.59</td>\n      <td>17.8</td>\n      <td>3.0</td>\n      <td>5.6</td>\n      <td>0.9</td>\n      <td>0.1</td>\n      <td>...</td>\n      <td>PG/UTIL</td>\n      <td>Mike Conley</td>\n      <td>Mike_Conley_PG</td>\n      <td>0</td>\n      <td>0</td>\n      <td>0</td>\n      <td>0</td>\n      <td>Mike_Conley_G</td>\n      <td>0</td>\n      <td>Mike_Conley_UTIL</td>\n    </tr>\n    <tr>\n      <th>26</th>\n      <td>55</td>\n      <td>32.7</td>\n      <td>6800.0</td>\n      <td>4.81</td>\n      <td>33.39</td>\n      <td>18.7</td>\n      <td>2.9</td>\n      <td>5.6</td>\n      <td>0.9</td>\n      <td>0.2</td>\n      <td>...</td>\n      <td>PG/SG/UTIL</td>\n      <td>Dennis Schroder</td>\n      <td>Dennis_Schroder_PG</td>\n      <td>Dennis_Schroder_SG</td>\n      <td>0</td>\n      <td>0</td>\n      <td>0</td>\n      <td>Dennis_Schroder_G</td>\n      <td>0</td>\n      <td>Dennis_Schroder_UTIL</td>\n    </tr>\n    <tr>\n      <th>27</th>\n      <td>57</td>\n      <td>31.9</td>\n      <td>6200.0</td>\n      <td>5.15</td>\n      <td>30.17</td>\n      <td>15.2</td>\n      <td>8.5</td>\n      <td>1.9</td>\n      <td>0.4</td>\n      <td>1.2</td>\n      <td>...</td>\n      <td>C/UTIL</td>\n      <td>LaMarcus Aldridge</td>\n      <td>0</td>\n      <td>0</td>\n      <td>0</td>\n      <td>0</td>\n      <td>LaMarcus_Aldridge_C</td>\n      <td>0</td>\n      <td>0</td>\n      <td>LaMarcus_Aldridge_UTIL</td>\n    </tr>\n    <tr>\n      <th>28</th>\n      <td>59</td>\n      <td>31.9</td>\n      <td>6400.0</td>\n      <td>4.98</td>\n      <td>26.34</td>\n      <td>13.6</td>\n      <td>9.2</td>\n      <td>1.9</td>\n      <td>0.7</td>\n      <td>1.4</td>\n      <td>...</td>\n      <td>C/UTIL</td>\n      <td>Jusuf Nurkic</td>\n      <td>0</td>\n      <td>0</td>\n      <td>0</td>\n      <td>0</td>\n      <td>Jusuf_Nurkic_C</td>\n      <td>0</td>\n      <td>0</td>\n      <td>Jusuf_Nurkic_UTIL</td>\n    </tr>\n    <tr>\n      <th>29</th>\n      <td>61</td>\n      <td>31.6</td>\n      <td>6900.0</td>\n      <td>4.58</td>\n      <td>33.52</td>\n      <td>17.8</td>\n      <td>5.9</td>\n      <td>2.6</td>\n      <td>0.9</td>\n      <td>0.6</td>\n      <td>...</td>\n      <td>SG/SF/UTIL</td>\n      <td>Andrew Wiggins</td>\n      <td>0</td>\n      <td>Andrew_Wiggins_SG</td>\n      <td>Andrew_Wiggins_SF</td>\n      <td>0</td>\n      <td>0</td>\n      <td>Andrew_Wiggins_G</td>\n      <td>Andrew_Wiggins_F</td>\n      <td>Andrew_Wiggins_UTIL</td>\n    </tr>\n    <tr>\n      <th>30</th>\n      <td>63</td>\n      <td>31.4</td>\n      <td>5900.0</td>\n      <td>5.32</td>\n      <td>32.49</td>\n      <td>21.1</td>\n      <td>4.0</td>\n      <td>2.2</td>\n      <td>0.5</td>\n      <td>0.1</td>\n      <td>...</td>\n      <td>SF/PF/UTIL</td>\n      <td>Bojan Bogdanovic</td>\n      <td>0</td>\n      <td>0</td>\n      <td>Bojan_Bogdanovic_SF</td>\n      <td>Bojan_Bogdanovic_PF</td>\n      <td>0</td>\n      <td>0</td>\n      <td>Bojan_Bogdanovic_F</td>\n      <td>Bojan_Bogdanovic_UTIL</td>\n    </tr>\n    <tr>\n      <th>31</th>\n      <td>65</td>\n      <td>30.8</td>\n      <td>3900.0</td>\n      <td>7.90</td>\n      <td>19.78</td>\n      <td>13.3</td>\n      <td>8.2</td>\n      <td>1.5</td>\n      <td>1.1</td>\n      <td>1.1</td>\n      <td>...</td>\n      <td>C/UTIL</td>\n      <td>Gorgui Dieng</td>\n      <td>0</td>\n      <td>0</td>\n      <td>0</td>\n      <td>0</td>\n      <td>Gorgui_Dieng_C</td>\n      <td>0</td>\n      <td>0</td>\n      <td>Gorgui_Dieng_UTIL</td>\n    </tr>\n  </tbody>\n</table>\n<p>30 rows × 23 columns</p>\n</div>"
     },
     "metadata": {},
     "execution_count": 668
    }
   ],
   "source": [
    "dk_data.head(30)"
   ]
  },
  {
   "cell_type": "code",
   "execution_count": 669,
   "metadata": {},
   "outputs": [],
   "source": [
    "# The objective function is added to 'prob' first\n",
    "# OBJ FUNCTION\n",
    "prob += lpSum([dk_data[i] * projected_points for i in nba_roster_positions]), 'Projected Points'"
   ]
  },
  {
   "cell_type": "code",
   "execution_count": 670,
   "metadata": {},
   "outputs": [],
   "source": [
    "# CONSTRAINTS\n",
    "\n",
    "# Stay under salary cap\n",
    "prob += lpSum(salaries * dk_data[i] for i in nba_roster_positions) <= SALARY_CAP\n",
    "\n",
    "# Stay under Num Players\n",
    "prob += lpSum(dk_data[i] for i in nba_roster_positions) <= MAX_PLAYERS\n",
    "\n",
    "# Select one of each position\n",
    "for position in nba_roster_positions:\n",
    "    prob += lpSum([dk_data[position]]) >= 1\n",
    "\n",
    "# Don't use same player twice\n",
    "for index, row in dk_data.iterrows():\n",
    "    prob += lpSum(row[i] for i in nba_roster_positions) <= 1\n"
   ]
  },
  {
   "cell_type": "code",
   "execution_count": 671,
   "metadata": {},
   "outputs": [],
   "source": [
    "# prob"
   ]
  },
  {
   "cell_type": "code",
   "execution_count": 672,
   "metadata": {},
   "outputs": [
    {
     "output_type": "execute_result",
     "data": {
      "text/plain": [
       "1"
      ]
     },
     "metadata": {},
     "execution_count": 672
    }
   ],
   "source": [
    "# The problem is solved using PuLP's choice of Solver\n",
    "prob.solve()"
   ]
  },
  {
   "cell_type": "code",
   "execution_count": 673,
   "metadata": {},
   "outputs": [
    {
     "output_type": "execute_result",
     "data": {
      "text/plain": [
       "1"
      ]
     },
     "metadata": {},
     "execution_count": 673
    }
   ],
   "source": [
    "prob.status"
   ]
  },
  {
   "cell_type": "code",
   "execution_count": 698,
   "metadata": {},
   "outputs": [
    {
     "output_type": "stream",
     "name": "stdout",
     "text": [
      "Total Estimated Points =  296.8\n296.8\n"
     ]
    }
   ],
   "source": [
    "print(\"Total Estimated Points = \", value(prob.objective))\n",
    "print(value(prob.objective))"
   ]
  },
  {
   "cell_type": "code",
   "execution_count": 718,
   "metadata": {},
   "outputs": [
    {
     "output_type": "stream",
     "name": "stdout",
     "text": [
      "Carmelo_Anthony_PF\nChris_Paul_PG\nDonovan_Mitchell_SG\nGorgui_Dieng_C\nKawhi_Leonard_UTIL\nStephen_Curry_G\nTimothe_Luwawu_Cabarrot_SF\nWill_Barton_F\n"
     ]
    }
   ],
   "source": [
    "df_final = pd.DataFrame(columns=[\"names\"])\n",
    "\n",
    "# Each of the variables is printed with it's resolved optimum value\n",
    "for v in prob.variables():\n",
    "    if v.varValue == 1:\n",
    "        print(v.name)\n",
    "        v.getName\n",
    "        df_final = df_final.append({\"names\":v.name}, ignore_index=True)"
   ]
  },
  {
   "cell_type": "code",
   "execution_count": 719,
   "metadata": {},
   "outputs": [
    {
     "output_type": "execute_result",
     "data": {
      "text/plain": [
       "                        names\n",
       "0          Carmelo_Anthony_PF\n",
       "1               Chris_Paul_PG\n",
       "2         Donovan_Mitchell_SG\n",
       "3              Gorgui_Dieng_C\n",
       "4          Kawhi_Leonard_UTIL\n",
       "5             Stephen_Curry_G\n",
       "6  Timothe_Luwawu_Cabarrot_SF\n",
       "7               Will_Barton_F"
      ],
      "text/html": "<div>\n<style scoped>\n    .dataframe tbody tr th:only-of-type {\n        vertical-align: middle;\n    }\n\n    .dataframe tbody tr th {\n        vertical-align: top;\n    }\n\n    .dataframe thead th {\n        text-align: right;\n    }\n</style>\n<table border=\"1\" class=\"dataframe\">\n  <thead>\n    <tr style=\"text-align: right;\">\n      <th></th>\n      <th>names</th>\n    </tr>\n  </thead>\n  <tbody>\n    <tr>\n      <th>0</th>\n      <td>Carmelo_Anthony_PF</td>\n    </tr>\n    <tr>\n      <th>1</th>\n      <td>Chris_Paul_PG</td>\n    </tr>\n    <tr>\n      <th>2</th>\n      <td>Donovan_Mitchell_SG</td>\n    </tr>\n    <tr>\n      <th>3</th>\n      <td>Gorgui_Dieng_C</td>\n    </tr>\n    <tr>\n      <th>4</th>\n      <td>Kawhi_Leonard_UTIL</td>\n    </tr>\n    <tr>\n      <th>5</th>\n      <td>Stephen_Curry_G</td>\n    </tr>\n    <tr>\n      <th>6</th>\n      <td>Timothe_Luwawu_Cabarrot_SF</td>\n    </tr>\n    <tr>\n      <th>7</th>\n      <td>Will_Barton_F</td>\n    </tr>\n  </tbody>\n</table>\n</div>"
     },
     "metadata": {},
     "execution_count": 719
    }
   ],
   "source": [
    "df_final"
   ]
  },
  {
   "cell_type": "code",
   "execution_count": 727,
   "metadata": {},
   "outputs": [
    {
     "output_type": "execute_result",
     "data": {
      "text/plain": [
       "     first       PLAYER_NAME  position     f\n",
       "0  Carmelo   Carmelo Anthony        PF  None\n",
       "1    Chris        Chris Paul        PG  None\n",
       "2  Donovan  Donovan Mitchell        SG  None\n",
       "3   Gorgui      Gorgui Dieng         C  None\n",
       "4    Kawhi     Kawhi Leonard      UTIL  None\n",
       "5  Stephen     Stephen Curry         G  None\n",
       "6  Timothe    Timothe Luwawu  Cabarrot    SF\n",
       "7     Will       Will Barton         F  None"
      ],
      "text/html": "<div>\n<style scoped>\n    .dataframe tbody tr th:only-of-type {\n        vertical-align: middle;\n    }\n\n    .dataframe tbody tr th {\n        vertical-align: top;\n    }\n\n    .dataframe thead th {\n        text-align: right;\n    }\n</style>\n<table border=\"1\" class=\"dataframe\">\n  <thead>\n    <tr style=\"text-align: right;\">\n      <th></th>\n      <th>first</th>\n      <th>PLAYER_NAME</th>\n      <th>position</th>\n      <th>f</th>\n    </tr>\n  </thead>\n  <tbody>\n    <tr>\n      <th>0</th>\n      <td>Carmelo</td>\n      <td>Carmelo Anthony</td>\n      <td>PF</td>\n      <td>None</td>\n    </tr>\n    <tr>\n      <th>1</th>\n      <td>Chris</td>\n      <td>Chris Paul</td>\n      <td>PG</td>\n      <td>None</td>\n    </tr>\n    <tr>\n      <th>2</th>\n      <td>Donovan</td>\n      <td>Donovan Mitchell</td>\n      <td>SG</td>\n      <td>None</td>\n    </tr>\n    <tr>\n      <th>3</th>\n      <td>Gorgui</td>\n      <td>Gorgui Dieng</td>\n      <td>C</td>\n      <td>None</td>\n    </tr>\n    <tr>\n      <th>4</th>\n      <td>Kawhi</td>\n      <td>Kawhi Leonard</td>\n      <td>UTIL</td>\n      <td>None</td>\n    </tr>\n    <tr>\n      <th>5</th>\n      <td>Stephen</td>\n      <td>Stephen Curry</td>\n      <td>G</td>\n      <td>None</td>\n    </tr>\n    <tr>\n      <th>6</th>\n      <td>Timothe</td>\n      <td>Timothe Luwawu</td>\n      <td>Cabarrot</td>\n      <td>SF</td>\n    </tr>\n    <tr>\n      <th>7</th>\n      <td>Will</td>\n      <td>Will Barton</td>\n      <td>F</td>\n      <td>None</td>\n    </tr>\n  </tbody>\n</table>\n</div>"
     },
     "metadata": {},
     "execution_count": 727
    }
   ],
   "source": [
    "# df_final = df_final.names.str.split(\"_\", expand = True)\n",
    "# df_final.columns = ['first','PLAYER_NAME','position','f']\n",
    "# df_final['PLAYER_NAME'] = df_final['first'] + ' ' + df_final['PLAYER_NAME']\n",
    "\n",
    "import time\n",
    "import datetime\n",
    "# filename = datetime.date.today()\n",
    "mydate = datetime.datetime.now()\n",
    "csvstr = datetime.datetime.strftime(mydate, '%Y, %m, %d')\n",
    "df_final.to_csv(csvstr + ' lineup.csv', sep = ',')\n",
    "df_final"
   ]
  },
  {
   "cell_type": "code",
   "execution_count": 729,
   "metadata": {},
   "outputs": [
    {
     "output_type": "execute_result",
     "data": {
      "text/plain": [
       "     first       PLAYER_NAME  position     f  Unnamed: 0    FP  SALARY  VALUE  \\\n",
       "0  Carmelo   Carmelo Anthony        PF  None        97.0  26.5  4300.0   6.16   \n",
       "1    Chris        Chris Paul        PG  None        37.0  37.3  7000.0   5.33   \n",
       "2  Donovan  Donovan Mitchell        SG  None        23.0  43.5  7100.0   6.12   \n",
       "3   Gorgui      Gorgui Dieng         C  None        65.0  30.8  3900.0   7.90   \n",
       "4    Kawhi     Kawhi Leonard      UTIL  None         9.0  50.5  9600.0   5.26   \n",
       "5  Stephen     Stephen Curry         G  None        11.0  48.3  9400.0   5.14   \n",
       "6  Timothe    Timothe Luwawu  Cabarrot    SF         NaN   NaN     NaN    NaN   \n",
       "7     Will       Will Barton         F  None        47.0  34.7  5400.0   6.43   \n",
       "\n",
       "     MIN   PTS  ...                   PG                   SG  \\\n",
       "0  24.05  14.3  ...                    0                    0   \n",
       "1  32.59  16.2  ...        Chris_Paul_PG                    0   \n",
       "2  34.82  27.9  ...  Donovan_Mitchell_PG  Donovan_Mitchell_SG   \n",
       "3  19.78  13.3  ...                    0                    0   \n",
       "4  35.19  26.8  ...                    0                    0   \n",
       "5  35.39  28.8  ...     Stephen_Curry_PG                    0   \n",
       "6    NaN   NaN  ...                  NaN                  NaN   \n",
       "7  33.34  14.7  ...                    0       Will_Barton_SG   \n",
       "\n",
       "                 SF                  PF               C                   G  \\\n",
       "0                 0  Carmelo_Anthony_PF               0                   0   \n",
       "1                 0                   0               0        Chris_Paul_G   \n",
       "2                 0                   0               0  Donovan_Mitchell_G   \n",
       "3                 0                   0  Gorgui_Dieng_C                   0   \n",
       "4  Kawhi_Leonard_SF                   0               0                   0   \n",
       "5                 0                   0               0     Stephen_Curry_G   \n",
       "6               NaN                 NaN             NaN                 NaN   \n",
       "7    Will_Barton_SF                   0               0       Will_Barton_G   \n",
       "\n",
       "                   F                   UTIL merge_column_lower     Test3  \n",
       "0  Carmelo_Anthony_F   Carmelo_Anthony_UTIL    carmelo anthony   anthony  \n",
       "1                  0        Chris_Paul_UTIL         chris paul      paul  \n",
       "2                  0  Donovan_Mitchell_UTIL   donovan mitchell  mitchell  \n",
       "3                  0      Gorgui_Dieng_UTIL       gorgui dieng     dieng  \n",
       "4    Kawhi_Leonard_F     Kawhi_Leonard_UTIL      kawhi leonard   leonard  \n",
       "5                  0     Stephen_Curry_UTIL      stephen curry     curry  \n",
       "6                NaN                    NaN                NaN       NaN  \n",
       "7      Will_Barton_F       Will_Barton_UTIL        will barton    barton  \n",
       "\n",
       "[8 rows x 28 columns]"
      ],
      "text/html": "<div>\n<style scoped>\n    .dataframe tbody tr th:only-of-type {\n        vertical-align: middle;\n    }\n\n    .dataframe tbody tr th {\n        vertical-align: top;\n    }\n\n    .dataframe thead th {\n        text-align: right;\n    }\n</style>\n<table border=\"1\" class=\"dataframe\">\n  <thead>\n    <tr style=\"text-align: right;\">\n      <th></th>\n      <th>first</th>\n      <th>PLAYER_NAME</th>\n      <th>position</th>\n      <th>f</th>\n      <th>Unnamed: 0</th>\n      <th>FP</th>\n      <th>SALARY</th>\n      <th>VALUE</th>\n      <th>MIN</th>\n      <th>PTS</th>\n      <th>...</th>\n      <th>PG</th>\n      <th>SG</th>\n      <th>SF</th>\n      <th>PF</th>\n      <th>C</th>\n      <th>G</th>\n      <th>F</th>\n      <th>UTIL</th>\n      <th>merge_column_lower</th>\n      <th>Test3</th>\n    </tr>\n  </thead>\n  <tbody>\n    <tr>\n      <th>0</th>\n      <td>Carmelo</td>\n      <td>Carmelo Anthony</td>\n      <td>PF</td>\n      <td>None</td>\n      <td>97.0</td>\n      <td>26.5</td>\n      <td>4300.0</td>\n      <td>6.16</td>\n      <td>24.05</td>\n      <td>14.3</td>\n      <td>...</td>\n      <td>0</td>\n      <td>0</td>\n      <td>0</td>\n      <td>Carmelo_Anthony_PF</td>\n      <td>0</td>\n      <td>0</td>\n      <td>Carmelo_Anthony_F</td>\n      <td>Carmelo_Anthony_UTIL</td>\n      <td>carmelo anthony</td>\n      <td>anthony</td>\n    </tr>\n    <tr>\n      <th>1</th>\n      <td>Chris</td>\n      <td>Chris Paul</td>\n      <td>PG</td>\n      <td>None</td>\n      <td>37.0</td>\n      <td>37.3</td>\n      <td>7000.0</td>\n      <td>5.33</td>\n      <td>32.59</td>\n      <td>16.2</td>\n      <td>...</td>\n      <td>Chris_Paul_PG</td>\n      <td>0</td>\n      <td>0</td>\n      <td>0</td>\n      <td>0</td>\n      <td>Chris_Paul_G</td>\n      <td>0</td>\n      <td>Chris_Paul_UTIL</td>\n      <td>chris paul</td>\n      <td>paul</td>\n    </tr>\n    <tr>\n      <th>2</th>\n      <td>Donovan</td>\n      <td>Donovan Mitchell</td>\n      <td>SG</td>\n      <td>None</td>\n      <td>23.0</td>\n      <td>43.5</td>\n      <td>7100.0</td>\n      <td>6.12</td>\n      <td>34.82</td>\n      <td>27.9</td>\n      <td>...</td>\n      <td>Donovan_Mitchell_PG</td>\n      <td>Donovan_Mitchell_SG</td>\n      <td>0</td>\n      <td>0</td>\n      <td>0</td>\n      <td>Donovan_Mitchell_G</td>\n      <td>0</td>\n      <td>Donovan_Mitchell_UTIL</td>\n      <td>donovan mitchell</td>\n      <td>mitchell</td>\n    </tr>\n    <tr>\n      <th>3</th>\n      <td>Gorgui</td>\n      <td>Gorgui Dieng</td>\n      <td>C</td>\n      <td>None</td>\n      <td>65.0</td>\n      <td>30.8</td>\n      <td>3900.0</td>\n      <td>7.90</td>\n      <td>19.78</td>\n      <td>13.3</td>\n      <td>...</td>\n      <td>0</td>\n      <td>0</td>\n      <td>0</td>\n      <td>0</td>\n      <td>Gorgui_Dieng_C</td>\n      <td>0</td>\n      <td>0</td>\n      <td>Gorgui_Dieng_UTIL</td>\n      <td>gorgui dieng</td>\n      <td>dieng</td>\n    </tr>\n    <tr>\n      <th>4</th>\n      <td>Kawhi</td>\n      <td>Kawhi Leonard</td>\n      <td>UTIL</td>\n      <td>None</td>\n      <td>9.0</td>\n      <td>50.5</td>\n      <td>9600.0</td>\n      <td>5.26</td>\n      <td>35.19</td>\n      <td>26.8</td>\n      <td>...</td>\n      <td>0</td>\n      <td>0</td>\n      <td>Kawhi_Leonard_SF</td>\n      <td>0</td>\n      <td>0</td>\n      <td>0</td>\n      <td>Kawhi_Leonard_F</td>\n      <td>Kawhi_Leonard_UTIL</td>\n      <td>kawhi leonard</td>\n      <td>leonard</td>\n    </tr>\n    <tr>\n      <th>5</th>\n      <td>Stephen</td>\n      <td>Stephen Curry</td>\n      <td>G</td>\n      <td>None</td>\n      <td>11.0</td>\n      <td>48.3</td>\n      <td>9400.0</td>\n      <td>5.14</td>\n      <td>35.39</td>\n      <td>28.8</td>\n      <td>...</td>\n      <td>Stephen_Curry_PG</td>\n      <td>0</td>\n      <td>0</td>\n      <td>0</td>\n      <td>0</td>\n      <td>Stephen_Curry_G</td>\n      <td>0</td>\n      <td>Stephen_Curry_UTIL</td>\n      <td>stephen curry</td>\n      <td>curry</td>\n    </tr>\n    <tr>\n      <th>6</th>\n      <td>Timothe</td>\n      <td>Timothe Luwawu</td>\n      <td>Cabarrot</td>\n      <td>SF</td>\n      <td>NaN</td>\n      <td>NaN</td>\n      <td>NaN</td>\n      <td>NaN</td>\n      <td>NaN</td>\n      <td>NaN</td>\n      <td>...</td>\n      <td>NaN</td>\n      <td>NaN</td>\n      <td>NaN</td>\n      <td>NaN</td>\n      <td>NaN</td>\n      <td>NaN</td>\n      <td>NaN</td>\n      <td>NaN</td>\n      <td>NaN</td>\n      <td>NaN</td>\n    </tr>\n    <tr>\n      <th>7</th>\n      <td>Will</td>\n      <td>Will Barton</td>\n      <td>F</td>\n      <td>None</td>\n      <td>47.0</td>\n      <td>34.7</td>\n      <td>5400.0</td>\n      <td>6.43</td>\n      <td>33.34</td>\n      <td>14.7</td>\n      <td>...</td>\n      <td>0</td>\n      <td>Will_Barton_SG</td>\n      <td>Will_Barton_SF</td>\n      <td>0</td>\n      <td>0</td>\n      <td>Will_Barton_G</td>\n      <td>Will_Barton_F</td>\n      <td>Will_Barton_UTIL</td>\n      <td>will barton</td>\n      <td>barton</td>\n    </tr>\n  </tbody>\n</table>\n<p>8 rows × 28 columns</p>\n</div>"
     },
     "metadata": {},
     "execution_count": 729
    }
   ],
   "source": [
    "check_salaries = df_final.merge(dk_data_check, on = 'PLAYER_NAME', how = 'left')\n",
    "check_salaries"
   ]
  },
  {
   "cell_type": "code",
   "execution_count": 733,
   "metadata": {},
   "outputs": [
    {
     "output_type": "execute_result",
     "data": {
      "text/plain": [
       "        PLAYER_NAME  SALARY\n",
       "0   Carmelo Anthony  4300.0\n",
       "1        Chris Paul  7000.0\n",
       "2  Donovan Mitchell  7100.0\n",
       "3      Gorgui Dieng  3900.0\n",
       "4     Kawhi Leonard  9600.0\n",
       "5     Stephen Curry  9400.0\n",
       "6    Timothe Luwawu     NaN\n",
       "7       Will Barton  5400.0"
      ],
      "text/html": "<div>\n<style scoped>\n    .dataframe tbody tr th:only-of-type {\n        vertical-align: middle;\n    }\n\n    .dataframe tbody tr th {\n        vertical-align: top;\n    }\n\n    .dataframe thead th {\n        text-align: right;\n    }\n</style>\n<table border=\"1\" class=\"dataframe\">\n  <thead>\n    <tr style=\"text-align: right;\">\n      <th></th>\n      <th>PLAYER_NAME</th>\n      <th>SALARY</th>\n    </tr>\n  </thead>\n  <tbody>\n    <tr>\n      <th>0</th>\n      <td>Carmelo Anthony</td>\n      <td>4300.0</td>\n    </tr>\n    <tr>\n      <th>1</th>\n      <td>Chris Paul</td>\n      <td>7000.0</td>\n    </tr>\n    <tr>\n      <th>2</th>\n      <td>Donovan Mitchell</td>\n      <td>7100.0</td>\n    </tr>\n    <tr>\n      <th>3</th>\n      <td>Gorgui Dieng</td>\n      <td>3900.0</td>\n    </tr>\n    <tr>\n      <th>4</th>\n      <td>Kawhi Leonard</td>\n      <td>9600.0</td>\n    </tr>\n    <tr>\n      <th>5</th>\n      <td>Stephen Curry</td>\n      <td>9400.0</td>\n    </tr>\n    <tr>\n      <th>6</th>\n      <td>Timothe Luwawu</td>\n      <td>NaN</td>\n    </tr>\n    <tr>\n      <th>7</th>\n      <td>Will Barton</td>\n      <td>5400.0</td>\n    </tr>\n  </tbody>\n</table>\n</div>"
     },
     "metadata": {},
     "execution_count": 733
    }
   ],
   "source": [
    "SALARY_CHECK = check_salaries[['PLAYER_NAME','SALARY']]\n",
    "SALARY_CHECK"
   ]
  },
  {
   "cell_type": "code",
   "execution_count": null,
   "metadata": {},
   "outputs": [],
   "source": [
    "# def str_merge(part_string_df,full_string_df, merge_column):\n",
    "#     merge_column_lower = 'merge_column_lower'\n",
    "#     part_string_df[merge_column_lower] = part_string_df[merge_column].str.lower()\n",
    "#     full_string_df[merge_column_lower] = full_string_df[merge_column].str.lower()   \n",
    "#     pat = '|'.join(r\"{}\".format(x) for x in part_string_df[merge_column_lower])\n",
    "#     full_string_df['Test3'] = full_string_df[merge_column_lower].str.extract('('+ pat + ')', expand=True)\n",
    "#     DF = pd.merge(part_string_df, full_string_df, left_on= merge_column_lower, right_on='Test3').drop([merge_column_lower + '_x',merge_column_lower + '_y','Test3'],axis=1)\n",
    "#     return DF\n",
    "\n",
    "# check_salaries_full = str_merge(\n",
    "#     part_string_df = df_final,\n",
    "#     full_string_df = dk_data_check, \n",
    "#     merge_column = 'PLAYER_NAME')"
   ]
  }
 ],
 "metadata": {
  "kernelspec": {
   "name": "python3",
   "display_name": "Python 3.9.1 64-bit",
   "metadata": {
    "interpreter": {
     "hash": "ee5cc6fef2d70a7e71ee3826687cbd150f18158e0b1eef11d4f4f92bb920e304"
    }
   }
  },
  "language_info": {
   "codemirror_mode": {
    "name": "ipython",
    "version": 3
   },
   "file_extension": ".py",
   "mimetype": "text/x-python",
   "name": "python",
   "nbconvert_exporter": "python",
   "pygments_lexer": "ipython3",
   "version": "3.9.1-final"
  }
 },
 "nbformat": 4,
 "nbformat_minor": 2
}