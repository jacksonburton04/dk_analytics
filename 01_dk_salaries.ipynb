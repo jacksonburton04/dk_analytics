{
 "metadata": {
  "language_info": {
   "codemirror_mode": {
    "name": "ipython",
    "version": 3
   },
   "file_extension": ".py",
   "mimetype": "text/x-python",
   "name": "python",
   "nbconvert_exporter": "python",
   "pygments_lexer": "ipython3",
   "version": "3.9.1-final"
  },
  "orig_nbformat": 2,
  "kernelspec": {
   "name": "python3",
   "display_name": "Python 3.9.1 64-bit",
   "metadata": {
    "interpreter": {
     "hash": "ee5cc6fef2d70a7e71ee3826687cbd150f18158e0b1eef11d4f4f92bb920e304"
    }
   }
  }
 },
 "nbformat": 4,
 "nbformat_minor": 2,
 "cells": [
  {
   "cell_type": "code",
   "execution_count": 233,
   "metadata": {},
   "outputs": [],
   "source": [
    "import selenium\n",
    "from selenium import webdriver\n",
    "from selenium.webdriver.common.keys import Keys\n",
    "import time\n",
    "import pandas as pd\n",
    "import csv\n",
    "\n",
    "\n",
    "PATH = \"C:\\Program Files (x86)\\chromedriver.exe\"\n",
    "driver = webdriver.Chrome(PATH)\n",
    "\n",
    "driver.get(\"https://www.numberfire.com/nba/daily-fantasy/daily-basketball-projections#_=_\")\n"
   ]
  },
  {
   "cell_type": "code",
   "execution_count": 234,
   "metadata": {
    "tags": []
   },
   "outputs": [
    {
     "output_type": "stream",
     "name": "stdout",
     "text": [
      "LeBron James PG/SF\nLAL  @  MEM GTD\nSun 6:00pm\n60.4 $10,100 5.98 34.33 28.4 8.7 10.3 1.4 0.9 4.7\nLuka Doncic PG\nDAL  @  CHI\nSun 8:00pm\n54.7 $10,000 5.47 34.63 27.0 9.6 9.4 1.1 0.4 3.8\nNikola Jokic C\nDEN  @  MIN\nSun 7:00pm\n51.8 $10,600 4.88 35.32 21.6 11.7 7.5 1.3 0.8 3.6\nRussell Westbrook PG\nWSH  @  BKN GTD\nSun 6:00pm\n50.6 $10,200 4.96 32.67 21.8 9.4 9.8 1.6 0.4 3.3\nKawhi Leonard SF\nLAC  @  PHX\nSun 8:00pm\n50.5 $9,600 5.26 35.19 26.8 8.5 5.5 2.1 0.6 3.0\nStephen Curry PG\nPOR  @  GS\nSun 8:30pm\n48.3 $9,400 5.14 35.39 28.8 3.9 7.7 1.4 0.3 3.0\nAnthony Davis PF/C\nLAL  @  MEM\nSun 6:00pm\n47.9 $9,700 4.94 34.08 25.3 9.6 3.2 1.2 1.9 2.5\nKevin Durant PF\nWSH  @  BKN\nSun 6:00pm\n46.1 $9,300 4.95 34.17 25.7 7 5.2 1.1 0.4 2.2\nPaul George SG\nLAC  @  PHX\nSun 8:00pm\n45.1 $8,700 5.18 34.02 23.7 6.5 5.3 1.9 0.4 3.4\nKyrie Irving PG\nWSH  @  BKN\nSun 6:00pm\n45.0 $9,000 5 33.97 26.7 4.7 5.6 1.3 0.2 2.4\nDamian Lillard PG\nPOR  @  GS\nSun 8:30pm\n44.5 $9,800 4.54 35.71 27.0 4.6 6.8 0.8 0.3 2.4\nDonovan Mitchell PG/SG\nUTAH  @  SA\nSun 7:00pm\n43.5 $7,100 6.12 34.82 27.9 4.5 4.4 1.1 0.2 3.0\nBradley Beal SG\nWSH  @  BKN\nSun 6:00pm\n43.3 $9,100 4.76 35.93 28.1 3.7 5.1 1.3 0.3 2.8\nDevin Booker SG\nLAC  @  PHX\nSun 8:00pm\n39.8 $7,700 5.16 34.29 21.2 4.4 7.9 0.7 0.3 3.8\nZach LaVine SG\nDAL  @  CHI\nSun 8:00pm\n39.5 $7,300 5.41 34.80 24.4 4.1 4.6 1.4 0.4 3.7\nJamal Murray PG\nDEN  @  MIN\nSun 7:00pm\n39.0 $7,200 5.41 36.01 23.2 4.4 4.7 1.3 0.4 2.4\nC.J. McCollum PG/SG\nPOR  @  GS\nSun 8:30pm\n37.8 $8,400 4.5 35.67 22.8 3.9 4.0 1.0 0.7 1.6\nD'Angelo Russell PG/SG\nDEN  @  MIN\nSun 7:00pm\n37.4 $7,400 5.05 32.07 20.1 3.7 6.3 1.2 0.3 3.5\nChris Paul PG\nLAC  @  PHX\nSun 8:00pm\n37.3 $7,000 5.33 32.59 16.2 4.6 8.6 1.7 0.1 2.3\nDeMar DeRozan SF/PF\nUTAH  @  SA\nSun 7:00pm\n36.5 $7,500 4.87 34.02 19.5 4.9 6.4 1.0 0.3 2.6\nRudy Gobert C\nUTAH  @  SA\nSun 7:00pm\n36.1 $7,200 5.02 30.71 14.0 12.3 1.1 0.6 1.6 1.6\nDeandre Ayton C\nLAC  @  PHX\nSun 8:00pm\n35.7 $7,100 5.03 30.27 16.4 10.4 1.5 0.6 1.2 2.1\nDejounte Murray PG\nUTAH  @  SA\nSun 7:00pm\n35.5 $6,700 5.29 31.06 14.8 6.8 5.5 2.1 0.2 2.3\nWill Barton SG/SF\nDEN  @  MIN\nSun 7:00pm\n34.7 $5,400 6.43 33.34 14.7 7.6 4.6 1.3 0.7 2.1\nThomas Bryant C\nWSH  @  BKN\nSun 6:00pm\n34.6 $6,600 5.24 32.25 15.5 8.8 1.8 0.7 2.0 1.8\nJonas Valanciunas C\nLAL  @  MEM\nSun 6:00pm\n33.4 $8,000 4.18 29.07 13.6 10 2.0 0.6 1.0 1.6\nMike Conley PG\nUTAH  @  SA\nSun 7:00pm\n33.3 $6,900 4.82 33.59 17.8 3 5.6 0.9 0.1 1.9\nDennis Schroder PG/SG\nLAL  @  MEM\nSun 6:00pm\n32.7 $6,800 4.81 33.39 18.7 2.9 5.6 0.9 0.2 2.4\nLaMarcus Aldridge C\nUTAH  @  SA GTD\nSun 7:00pm\n31.9 $6,200 5.15 30.17 15.2 8.5 1.9 0.4 1.2 1.0\nJusuf Nurkic C\nPOR  @  GS\nSun 8:30pm\n31.9 $6,400 4.98 26.34 13.6 9.2 1.9 0.7 1.4 1.9\nAndrew Wiggins SG/SF\nPOR  @  GS\nSun 8:30pm\n31.6 $6,900 4.58 33.52 17.8 5.9 2.6 0.9 0.6 2.1\nBojan Bogdanovic SF/PF\nUTAH  @  SA\nSun 7:00pm\n31.4 $5,900 5.32 32.49 21.1 4 2.2 0.5 0.1 2.3\nGorgui Dieng C\nLAL  @  MEM\nSun 6:00pm\n30.8 $3,900 7.9 19.78 13.3 8.2 1.5 1.1 1.1 1.7\nSerge Ibaka C\nLAC  @  PHX\nSun 8:00pm\n30.2 $5,700 5.29 26.48 14.5 7.8 1.5 0.4 1.2 1.7\nCoby White PG/SG\nDAL  @  CHI\nSun 8:00pm\n29.7 $6,200 4.78 34.85 17.2 4.2 3.4 0.8 0.0 2.2\nDillon Brooks SG/SF\nLAL  @  MEM\nSun 6:00pm\n29.3 $6,300 4.64 31.51 20.3 3.2 1.8 0.8 0.3 1.7\nCaris LeVert PG/SG\nWSH  @  BKN\nSun 6:00pm\n28.8 $6,500 4.43 26.15 15.3 3.3 4.4 1.3 0.3 2.5\nKeldon Johnson SG/SF\nUTAH  @  SA\nSun 7:00pm\n28.5 $6,100 4.67 31.77 16.2 4.9 1.9 1.4 0.3 1.3\nJosh Richardson SG/SF\nDAL  @  CHI\nSun 8:00pm\n28.4 $5,000 5.68 34.65 15.6 3.5 3.4 1.3 0.4 2.3\nWendell Carter Jr. C\nDAL  @  CHI\nSun 8:00pm\n28.0 $6,000 4.66 30.27 13.0 8.3 1.5 0.7 0.9 1.7\nRobert Covington PF\nPOR  @  GS\nSun 8:30pm\n27.6 $5,000 5.53 33.36 9.4 7.5 2.0 1.9 1.4 1.5\nMontrezl Harrell C\nLAL  @  MEM\nSun 6:00pm\n27.5 $6,300 4.36 25.12 14.6 6.9 1.4 0.5 1.0 1.7\nJarrett Allen C\nWSH  @  BKN\nSun 6:00pm\n27.4 $5,600 4.89 24.12 10.7 9.1 1.3 0.5 1.5 1.3\nKyle Anderson SF/PF\nLAL  @  MEM\nSun 6:00pm\n27.4 $6,400 4.28 33.01 11.1 7.7 2.3 0.9 0.7 1.5\nLonnie Walker SG\nUTAH  @  SA\nSun 7:00pm\n27.1 $4,200 6.44 31.63 15.3 4.6 2.1 0.9 0.2 1.3\nMikal Bridges SF\nLAC  @  PHX\nSun 8:00pm\n27.1 $5,800 4.66 35.26 11.6 5.2 2.0 1.4 0.9 1.2\nRicky Rubio PG\nDEN  @  MIN\nSun 7:00pm\n26.9 $5,000 5.39 28.64 9.0 4.1 7.5 1.4 0.1 2.9\nRudy Gay SF/PF\nUTAH  @  SA\nSun 7:00pm\n26.5 $5,100 5.2 25.52 12.9 6.2 2.0 0.7 0.8 1.5\nCarmelo Anthony PF\nPOR  @  GS\nSun 8:30pm\n26.5 $4,300 6.16 24.05 14.3 5.9 1.8 0.9 0.6 1.8\nJordan Clarkson PG/SG\nUTAH  @  SA\nSun 7:00pm\n26.0 $4,800 5.41 23.88 16.7 2.6 2.2 0.8 0.1 1.4\nTim Hardaway Jr. SG\nDAL  @  CHI\nSun 8:00pm\n25.6 $5,800 4.41 31.19 16.2 3.3 2.0 0.7 0.1 1.0\nJoe Ingles SG/SF\nUTAH  @  SA\nSun 7:00pm\n25.6 $4,700 5.44 28.90 10.9 3.4 5.4 0.7 0.1 1.8\nNaz Reid C\nDEN  @  MIN\nSun 7:00pm\n25.4 $5,500 4.61 27.45 12.1 5.9 1.5 0.9 1.2 1.1\nKelly Oubre SF/PF\nPOR  @  GS\nSun 8:30pm\n25.3 $6,000 4.22 30.65 13.8 5.4 1.3 1.0 0.7 1.2\nTimothe Luwawu-Cabarrot SF\nWSH  @  BKN\nSun 6:00pm\n25.2 $3,300 7.62 24.49 14.3 4.2 1.1 0.8 0.2 0.8\nMalik Beasley SG\nDEN  @  MIN\nSun 7:00pm\n24.9 $5,900 4.22 32.84 14.8 3.9 1.7 0.7 0.2 1.5\nOtto Porter SF/PF\nDAL  @  CHI\nSun 8:00pm\n24.6 $6,200 3.97 28.94 13.0 4.5 2.0 1.2 0.4 1.1\nPaul Millsap PF/C\nDEN  @  MIN\nSun 7:00pm\n24.5 $4,500 5.45 28.95 10.5 5.7 2.0 1.0 0.9 1.1\nAnthony Edwards SG/SF\nDEN  @  MIN\nSun 7:00pm\n24.4 $5,200 4.7 24.37 12.7 4.5 1.5 1.4 0.5 1.4\nThaddeus Young PF\nDAL  @  CHI\nSun 8:00pm\n24.2 $3,900 6.21 26.44 11.2 4.9 2.1 1.5 0.4 1.4\nJae Crowder SF/PF\nLAC  @  PHX\nSun 8:00pm\n23.5 $4,900 4.8 29.56 10.6 5.4 2.0 1.0 0.6 1.2\nDerrick Jones Jr. SF/PF\nPOR  @  GS\nSun 8:30pm\n23.4 $4,600 5.09 30.66 9.7 5.2 1.2 1.2 0.8 0.8\nJoe Harris SG/SF\nWSH  @  BKN\nSun 6:00pm\n23.0 $5,700 4.04 30.05 12.3 4.2 1.9 0.7 0.3 1.4\nEnes Kanter C\nPOR  @  GS\nSun 8:30pm\n22.9 $4,900 4.66 20.37 9.4 7.2 0.9 0.5 1.2 0.6\nDorian Finney-Smith SF/PF\nDAL  @  CHI\nSun 8:00pm\n22.5 $4,200 5.36 30.29 10.0 6 1.6 0.6 0.6 1.0\nJames Wiseman C\nPOR  @  GS GTD\nSun 8:30pm\n22.2 $5,200 4.26 22.11 12.2 3.6 1.5 0.8 0.4 1.2\nDavis Bertans PF\nWSH  @  BKN\nSun 6:00pm\n22.0 $4,700 4.69 23.36 12.5 3.5 1.3 0.7 0.3 1.1\nBrandon Clarke PF/C\nLAL  @  MEM\nSun 6:00pm\n21.9 $5,400 4.05 25.99 9.2 7 1.1 0.5 0.9 1.1\nKyle Kuzma SF/PF\nLAL  @  MEM\nSun 6:00pm\n21.7 $5,600 3.88 22.51 12.4 4.1 1.4 0.6 0.3 1.3\nDraymond Green PF/C\nPOR  @  GS\nSun 8:30pm\n21.7 $5,800 3.74 21.58 7.7 3.9 4.5 1.1 0.4 1.9\nMonte Morris PG\nDEN  @  MIN\nSun 7:00pm\n21.5 $4,600 4.68 26.27 10.1 2.5 4.4 0.9 0.1 1.2\nTyus Jones PG\nLAL  @  MEM\nSun 6:00pm\n21.5 $5,400 3.98 30.65 8.4 2 5.8 1.2 0.1 1.4\nTrey Burke PG/SG\nDAL  @  CHI\nSun 8:00pm\n21.3 $3,400 6.27 21.85 11.2 1.7 3.6 0.9 0.1 1.0\nNicolas Batum SF/PF\nLAC  @  PHX\nSun 8:00pm\n21.2 $4,800 4.42 33.88 7.0 4 4.4 0.9 0.4 1.4\nLou Williams PG/SG\nLAC  @  PHX\nSun 8:00pm\n20.8 $4,600 4.53 24.19 10.9 2.1 4.0 0.5 0.2 1.8\nRui Hachimura PF\nWSH  @  BKN\nSun 6:00pm\n20.8 $5,200 4 25.51 11.0 4.9 1.5 0.7 0.2 1.1\nPatrick Beverley PG\nLAC  @  PHX\nSun 8:00pm\n20.8 $3,900 5.33 27.46 7.0 3.6 3.5 1.2 0.6 1.5\nGary Harris SG/SF\nDEN  @  MIN\nSun 7:00pm\n20.6 $3,800 5.41 33.37 9.4 3.7 2.2 1.6 0.3 1.1\nDeAndre Jordan C\nWSH  @  BKN\nSun 6:00pm\n20.4 $4,800 4.24 17.72 6.7 7.6 1.3 0.4 1.0 1.2\nCameron Johnson SF/PF\nLAC  @  PHX\nSun 8:00pm\n20.1 $4,100 4.91 21.89 11.9 3.3 1.3 0.7 0.3 0.6\nGarrett Temple SG/SF\nDAL  @  CHI\nSun 8:00pm\n20.1 $3,600 5.59 23.09 10.7 3.5 1.7 0.7 0.2 0.9\nDwight Powell C\nDAL  @  CHI\nSun 8:00pm\n19.6 $4,300 4.55 26.57 7.7 5.8 1.4 0.6 0.7 0.9\nCameron Payne PG\nLAC  @  PHX\nSun 8:00pm\n19.3 $4,200 4.59 16.25 9.5 2.7 2.9 0.8 0.3 1.4\nJakob Poeltl C\nUTAH  @  SA\nSun 7:00pm\n19.3 $4,500 4.28 18.67 5.5 5.9 1.8 0.6 1.4 0.6\nRoyce O'Neale SF/PF\nUTAH  @  SA GTD\nSun 7:00pm\n19.2 $4,400 4.36 33.72 4.9 6.1 2.9 0.8 0.6 1.0\nPatrick Mills PG/SG\nUTAH  @  SA\nSun 7:00pm\n19.2 $3,700 5.18 23.06 12.5 1.6 1.4 0.9 0.0 1.0\nPatrick Williams SF/PF\nDAL  @  CHI\nSun 8:00pm\n19.1 $4,300 4.43 23.31 9.5 3.4 1.9 0.9 0.4 1.2\nDeni Avdija SF/PF\nWSH  @  BKN\nSun 6:00pm\n18.8 $5,300 3.54 24.90 7.6 4.5 1.3 1.1 0.6 1.4\nMaxi Kleber PF/C\nDAL  @  CHI\nSun 8:00pm\n18.5 $4,000 4.62 21.97 8.1 4.9 0.9 0.4 0.9 0.8\nDe'Anthony Melton PG/SG\nLAL  @  MEM\nSun 6:00pm\n18.3 $3,700 4.93 24.25 6.8 3.6 2.9 1.1 0.3 1.2\nLuke Kennard SG/SF\nLAC  @  PHX\nSun 8:00pm\n18.1 $3,600 5.03 20.05 10.4 1.9 2.8 0.5 0.1 1.2\nIvica Zubac C\nLAC  @  PHX\nSun 8:00pm\n18.0 $4,400 4.08 15.84 8.2 5.6 0.8 0.3 0.6 0.5\nMarc Gasol C\nLAL  @  MEM\nSun 6:00pm\n17.8 $4,200 4.24 20.42 5.9 4.9 2.0 0.8 0.9 1.2\nKentavious Caldwell-Pope SG/SF\nLAL  @  MEM GTD\nSun 6:00pm\n17.3 $3,900 4.42 26.88 10.0 2.2 1.4 0.8 0.2 0.9\nGary Trent Jr. SG/SF\nPOR  @  GS GTD\nSun 8:30pm\n17.2 $4,500 3.82 23.12 10.3 1.9 1.1 0.8 0.2 0.8\nP.J. Dozier SG/SF\nDEN  @  MIN\nSun 7:00pm\n17.2 $3,400 5.05 22.10 9.1 2.3 3.1 0.4 0.2 1.7\nDerrick Favors C\nUTAH  @  SA GTD\nSun 7:00pm\n17.2 $4,000 4.29 17.09 6.7 6.8 0.8 0.2 0.4 0.9\nDenzel Valentine SG\nDAL  @  CHI\nSun 8:00pm\n17.1 $3,300 5.17 16.77 9.1 2.5 1.2 0.8 0.4 0.8\nTaurean Prince SF/PF\nWSH  @  BKN\nSun 6:00pm\n16.8 $3,200 5.26 18.34 8.0 4.1 1.1 0.9 0.2 1.2\nMarkieff Morris PF/C\nLAL  @  MEM\nSun 6:00pm\n16.2 $3,300 4.92 16.65 8.6 3.5 1.2 0.4 0.1 1.2\nEric Paschall SF/PF\nPOR  @  GS\nSun 8:30pm\n15.8 $4,000 3.94 15.83 9.1 2.9 1.5 0.4 0.1 0.9\nJuan Hernangomez PF\nDEN  @  MIN\nSun 7:00pm\n15.7 $3,200 4.89 16.31 5.7 5 1.5 0.8 0.2 1.1\nJarrett Culver PF\nDEN  @  MIN\nSun 7:00pm\n15.6 $4,100 3.81 28.18 7.4 3.1 1.5 0.8 0.5 1.0\nDaniel Gafford C\nDAL  @  CHI\nSun 8:00pm\n15.5 $3,400 4.56 18.60 6.0 4.4 0.8 0.4 1.2 0.8\nBrad Wanamaker PG\nPOR  @  GS\nSun 8:30pm\n15.4 $3,200 4.81 16.20 6.8 2 2.6 1.0 0.2 0.9\nDamion Lee PG/SG\nPOR  @  GS\nSun 8:30pm\n14.7 $3,500 4.2 17.37 8.2 2 1.5 0.6 0.1 0.7\nJaMychal Green PF\nDEN  @  MIN\nSun 7:00pm\n14.7 $3,400 4.31 16.77 5.5 4 0.7 0.7 0.7 0.7\nRobin Lopez C\nWSH  @  BKN\nSun 6:00pm\n13.9 $3,700 3.76 16.81 6.2 3.8 0.8 0.2 0.9 1.3\nDario Saric PF/C\nLAC  @  PHX GTD\nSun 8:00pm\n13.8 $3,800 3.63 16.72 6.8 3.9 1.0 0.2 0.1 0.8\nLandry Shamet SG\nWSH  @  BKN\nSun 6:00pm\n13.6 $3,200 4.26 18.98 7.1 2.3 1.2 0.5 0.3 0.5\nRaul Neto PG/SG\nWSH  @  BKN\nSun 6:00pm\n13.2 $4,000 3.3 16.24 6.1 1.8 2.2 0.7 0.0 1.1\nTroy Brown SG/SF\nWSH  @  BKN\nSun 6:00pm\n12.4 $3,300 3.77 13.94 5.3 2.9 1.3 0.7 0.1 0.5\nIsh Smith PG\nWSH  @  BKN\nSun 6:00pm\n12.1 $4,400 2.75 13.34 4.6 1.8 2.5 0.5 0.3 0.7\nJames Johnson SF/PF\nDAL  @  CHI\nSun 8:00pm\n11.9 $3,700 3.21 12.89 4.3 2.5 1.7 0.7 0.5 1.0\nGrayson Allen SG\nLAL  @  MEM GTD\nSun 6:00pm\n11.7 $3,500 3.33 27.51 6.7 2.2 1.0 0.2 0.1 0.9\nJalen Brunson PG\nDAL  @  CHI\nSun 8:00pm\n11.5 $3,300 3.49 13.90 5.5 1.7 2.4 0.3 0.1 1.0\nJordan McLaughlin PG\nDEN  @  MIN\nSun 7:00pm\n11.5 $3,000 3.83 13.54 4.1 1.4 2.9 0.8 0.1 1.0\nTrey Lyles PF/C\nUTAH  @  SA\nSun 7:00pm\n11.5 $3,000 3.83 14.22 4.6 3.3 0.4 0.4 0.4 0.4\nJuan Toscano-Anderson PF\nPOR  @  GS\nSun 8:30pm\n10.9 $3,400 3.21 14.00 4.6 1.9 1.3 0.7 0.4 0.8\nEd Davis C\nDEN  @  MIN\nSun 7:00pm\n10.2 $3,300 3.09 15.55 3.7 4.6 0.2 0.2 0.1 0.3\nMychal Mulder SG\nPOR  @  GS\nSun 8:30pm\n9.9 $3,000 3.28 12.10 5.5 1.6 0.8 0.2 0.1 0.3\nJevon Carter PG/SG\nLAC  @  PHX\nSun 8:00pm\n9.8 $3,000 3.27 15.84 4.4 1.6 0.8 0.8 0.4 0.4\nJake Layman SF/PF\nDEN  @  MIN\nSun 7:00pm\n9.8 $3,500 2.79 16.65 4.4 2 1.0 0.5 0.3 0.5\nTalen Horton-Tucker SF\nLAL  @  MEM\nSun 6:00pm\n9.6 $3,100 3.1 11.69 4.3 1.2 1.2 0.7 0.2 0.4\nKevon Looney C\nPOR  @  GS\nSun 8:30pm\n9.3 $3,300 2.82 11.47 3.2 2.8 0.7 0.5 0.4 0.5\nJeff Green PF/C\nWSH  @  BKN\nSun 6:00pm\n9.2 $3,100 2.96 10.91 4.9 1.7 0.5 0.4 0.3 0.5\nReggie Jackson PG\nLAC  @  PHX\nSun 8:00pm\n8.9 $3,600 2.47 10.22 4.6 1.2 1.6 0.2 0.0 0.6\nWesley Matthews SG\nLAL  @  MEM\nSun 6:00pm\n8.1 $3,300 2.45 16.25 4.4 1.4 1.0 0.3 0.1 0.7\nWillie Cauley-Stein C\nDAL  @  CHI\nSun 8:00pm\n8.0 $3,200 2.51 12.01 3.2 2.9 0.2 0.1 0.4 0.2\nLangston Galloway PG/SG\nLAC  @  PHX\nSun 8:00pm\n7.6 $3,000 2.53 8.21 4.4 0.8 0.5 0.3 0.1 0.3\nJohn Konchar SG/SF\nLAL  @  MEM\nSun 6:00pm\n6.7 $3,500 1.9 9.54 3.1 1.6 0.7 0.2 0.1 0.4\nAnfernee Simons PG/SG\nPOR  @  GS\nSun 8:30pm\n6.0 $3,100 1.94 7.93 3.2 1 0.5 0.3 0.1 0.5\nIsaiah Hartenstein C\nDEN  @  MIN\nSun 7:00pm\n4.0 $3,000 1.33 4.16 1.7 1.3 0.1 0.1 0.2 0.2\nGeorges Niang SF/PF\nUTAH  @  SA\nSun 7:00pm\n3.1 $3,000 1.02 5.28 2.0 0.6 0.2 0.0 0.0 0.0\nFacundo Campazzo PG/SG\nDEN  @  MIN\nSun 7:00pm\n2.4 $3,000 0.8 6.03 1.3 0.4 0.4 0.0 0.0 0.4\nJosh Green SF\nDAL  @  CHI\nSun 8:00pm\n1.6 $3,000 0.54 1.11 0.9 0.3 0.1 0.0 0.0 0.1\nTre Jones PG\nUTAH  @  SA\nSun 7:00pm\n1.4 $3,000 0.45 0.12 0.9 0 0.0 0.0 0.0 0.0\nAnthony Gill PF\nWSH  @  BKN\nSun 6:00pm\n1.2 $3,000 0.4 0.11 0.8 0 0.0 0.0 0.0 0.0\nFrank Kaminsky PF/C\nLAC  @  PHX\nSun 8:00pm\n1.0 $3,100 0.31 0.87 0.4 0.3 0.1 0.0 0.0 0.0\nPatrick Patterson PF/C\nLAC  @  PHX\nSun 8:00pm\n1.0 $3,200 0.3 4.14 0.4 0.3 0.1 0.0 0.0 0.0\nXavier Tillman PF/C\nLAL  @  MEM OUT\nSun 6:00pm\n0.8 $3,000 0.25 0.12 0.5 0 0.0 0.0 0.0 0.0\nSean McDermott SF\nLAL  @  MEM\nSun 6:00pm\n0.8 $3,000 0.25 0.11 0.5 0 0.0 0.0 0.0 0.0\nIsaac Bonga SF/PF\nWSH  @  BKN\nSun 6:00pm\n0.7 $3,000 0.23 0.91 0.3 0.2 0.1 0.0 0.0 0.1\nDevin Vassell SF/PF\nUTAH  @  SA\nSun 7:00pm\n0.6 $3,000 0.19 0.78 0.3 0.1 0.1 0.0 0.0 0.0\nJordan Poole PG/SG\nPOR  @  GS\nSun 8:30pm\n0.6 $3,100 0.19 0.60 0.3 0.1 0.1 0.0 0.0 0.0\nE'Twaun Moore SG/SF\nLAC  @  PHX\nSun 8:00pm\n0.6 $3,000 0.19 0.71 0.3 0.1 0.1 0.0 0.0 0.0\nBoban Marjanovic C\nDAL  @  CHI\nSun 8:00pm\n0.6 $3,100 0.18 0.46 0.3 0.2 0.0 0.0 0.0 0.0\nHarry Giles C\nPOR  @  GS\nSun 8:30pm\n0.5 $3,100 0.15 0.47 0.3 0.1 0.0 0.0 0.0 0.0\nDrew Eubanks C\nUTAH  @  SA\nSun 7:00pm\n0.5 $3,500 0.13 0.53 0.2 0.2 0.0 0.0 0.0 0.0\nDaniel Oturu C\nLAC  @  PHX\nSun 8:00pm\n0.4 $3,000 0.13 0.09 0.3 0 0.0 0.0 0.0 0.0\nTyler Johnson PG/SG\nWSH  @  BKN\nSun 6:00pm\n0.4 $3,000 0.13 0.50 0.2 0.1 0.0 0.0 0.0 0.0\nTerance Mann PG/SG\nLAC  @  PHX\nSun 8:00pm\n0.4 $3,000 0.13 0.50 0.1 0.1 0.1 0.0 0.0 0.0\nNicolas Claxton C\nWSH  @  BKN OUT\nSun 6:00pm\n0.3 $3,000 0.11 0.61 0.2 0.1 0.0 0.0 0.0 0.0\nLuka Samanic PF\nUTAH  @  SA\nSun 7:00pm\n0.3 $3,000 0.11 0.45 0.2 0.1 0.0 0.0 0.0 0.0\nJerome Robinson SG/SF\nWSH  @  BKN\nSun 6:00pm\n0.3 $3,200 0.1 0.67 0.2 0.1 0.0 0.0 0.0 0.0\nJuwan Morgan PF\nUTAH  @  SA\nSun 7:00pm\n0.2 $3,000 0.08 0.37 0.1 0.1 0.0 0.0 0.0 0.0\nLuke Kornet C\nDAL  @  CHI\nSun 8:00pm\n0.2 $3,000 0.08 0.45 0.1 0.1 0.0 0.0 0.0 0.0\nQuinn Cook PG\nLAL  @  MEM\nSun 6:00pm\n0.2 $3,000 0.07 0.42 0.2 0 0.0 0.0 0.0 0.0\nMiye Oni SG\nUTAH  @  SA\nSun 7:00pm\n0.2 $3,000 0.05 0.23 0.1 0 0.0 0.0 0.0 0.0\nAlfonzo McKinnie SF/PF\nLAL  @  MEM\nSun 6:00pm\n0.2 $3,000 0.05 0.12 0.1 0 0.0 0.0 0.0 0.0\nJaden McDaniels PF\nDEN  @  MIN\nSun 7:00pm\n0.2 $3,000 0.05 0.13 0.1 0 0.0 0.0 0.0 0.0\nMarkus Howard PG\nDEN  @  MIN\nSun 7:00pm\n0.2 $3,000 0.05 0.09 0.1 0 0.0 0.0 0.0 0.0\nBol Bol C\nDEN  @  MIN\nSun 7:00pm\n0.1 $3,000 0.03 0.14 0.1 0 0.0 0.0 0.0 0.0\nRodions Kurucs PF/C\nWSH  @  BKN\nSun 6:00pm\n0.1 $3,000 0.03 0.27 0.1 0 0.0 0.0 0.0 0.0\nMoritz Wagner C\nWSH  @  BKN\nSun 6:00pm\n0.1 $3,000 0.03 0.26 0.1 0 0.0 0.0 0.0 0.0\nZeke Nnaji PF/C\nDEN  @  MIN\nSun 7:00pm\n0.1 $3,000 0.03 0.12 0.1 0 0.0 0.0 0.0 0.0\nBruce Brown Jr. PG/SG\nWSH  @  BKN\nSun 6:00pm\n0.1 $3,000 0.03 0.24 0.1 0 0.0 0.0 0.0 0.0\nKent Bazemore SF\nPOR  @  GS\nSun 8:30pm\n0.1 $3,100 0.03 0.13 0.1 0 0.0 0.0 0.0 0.0\nR.J. Hampton PG/SG\nDEN  @  MIN\nSun 7:00pm\n0.1 $3,000 0.03 0.12 0.1 0 0.0 0.0 0.0 0.0\nWesley Iwundu SF/PF\nDAL  @  CHI\nSun 8:00pm\n0.1 $3,000 0.03 0.25 0.1 0 0.0 0.0 0.0 0.0\nNassir Little SF/PF\nPOR  @  GS GTD\nSun 8:30pm\n0.1 $3,000 0.03 0.20 0.1 0 0.0 0.0 0.0 0.0\nJalen Smith PF/C\nLAC  @  PHX OUT\nSun 8:00pm\n0.1 $3,000 0.03 0.27 0.1 0 0.0 0.0 0.0 0.0\nJosh Okogie SF\nDEN  @  MIN GTD\nSun 7:00pm\n0.0 $3,400 0 0.00 0.0 0 0.0 0.0 0.0 0.0\nJarred Vanderbilt PF/C\nDEN  @  MIN\nSun 7:00pm\n0.0 $3,600 0 3.87 0.0 0 0.0 0.0 0.0 0.0\nJaylen Nowell PG/SG\nDEN  @  MIN OUT\nSun 7:00pm\n0.0 $3,000 0 0.00 0.0 0 0.0 0.0 0.0 0.0\nShaquille Harrison PG\nUTAH  @  SA\nSun 7:00pm\n0.0 $3,000 0 0.13 0.0 0 0.0 0.0 0.0 0.0\nDerrick White PG/SG\nUTAH  @  SA OUT\nSun 7:00pm\n0.0 $5,100 0 0.00 0.0 0 0.0 0.0 0.0 0.0\nMichael Porter Jr. SF/PF\nDEN  @  MIN GTD\nSun 7:00pm\n0.0 $7,000 0 0.00 0.0 0 0.0 0.0 0.0 0.0\nKarl-Anthony Towns C\nDEN  @  MIN OUT\nSun 7:00pm\n0.0 $9,900 0 0.00 0.0 0 0.0 0.0 0.0 0.0\nAlex Caruso PG/SG\nLAL  @  MEM GTD\nSun 6:00pm\n0.0 $3,200 0 0.00 0.0 0 0.0 0.0 0.0 0.0\nJared Dudley SF/PF\nLAL  @  MEM\nSun 6:00pm\n0.0 $3,000 0 0.17 0.0 0 0.0 0.0 0.0 0.0\nDevontae Cacok PF\nLAL  @  MEM\nSun 6:00pm\n0.0 $3,000 0 0.12 0.0 0 0.0 0.0 0.0 0.0\nUdoka Azubuike C\nUTAH  @  SA\nSun 7:00pm\n0.0 $3,000 0 0.17 0.0 0 0.0 0.0 0.0 0.0\nChris Chiozza PG\nWSH  @  BKN\nSun 6:00pm\n0.0 $3,000 0 0.13 0.0 0 0.0 0.0 0.0 0.0\nVlatko Cancar SF\nDEN  @  MIN\nSun 7:00pm\n0.0 $3,000 0 0.09 0.0 0 0.0 0.0 0.0 0.0\nTyrell Terry PG/SG\nDAL  @  CHI\nSun 8:00pm\n0.0 $3,000 0 0.09 0.0 0 0.0 0.0 0.0 0.0\nChandler Hutchison SF\nDAL  @  CHI GTD\nSun 8:00pm\n0.0 $3,000 0 0.00 0.0 0 0.0 0.0 0.0 0.0\nRyan Arcidiacono PG\nDAL  @  CHI GTD\nSun 8:00pm\n0.0 $3,000 0 0.00 0.0 0 0.0 0.0 0.0 0.0\nRodney Hood SG/SF\nPOR  @  GS GTD\nSun 8:30pm\n0.0 $3,100 0 0.00 0.0 0 0.0 0.0 0.0 0.0\nAlen Smailagic PF/C\nPOR  @  GS GTD\nSun 8:30pm\n0.0 $3,000 0 0.00 0.0 0 0.0 0.0 0.0 0.0\nC.J. Elleby SG\nPOR  @  GS\nSun 8:30pm\n0.0 $3,000 0 0.10 0.0 0 0.0 0.0 0.0 0.0\nLauri Markkanen PF\nDAL  @  CHI GTD\nSun 8:00pm\n0.0 $5,700 0 0.00 0.0 0 0.0 0.0 0.0 0.0\nTomas Satoransky PG\nDAL  @  CHI GTD\nSun 8:00pm\n0.0 $4,300 0 0.00 0.0 0 0.0 0.0 0.0 0.0\nMarcus Morris SF/PF\nLAC  @  PHX GTD\nSun 8:00pm\n0.0 $5,500 0 0.00 0.0 0 0.0 0.0 0.0 0.0\nDamian Jones C\nLAC  @  PHX\nSun 8:00pm\n0.0 $3,000 0 0.11 0.0 0 0.0 0.0 0.0 0.0\nAbdel Nader SF\nLAC  @  PHX GTD\nSun 8:00pm\n0.0 $3,000 0 0.00 0.0 0 0.0 0.0 0.0 0.0\nCristiano Felicio C\nDAL  @  CHI\nSun 8:00pm\n0.0 $3,000 0 0.12 0.0 0 0.0 0.0 0.0 0.0\nElijah Hughes SF\nUTAH  @  SA\nSun 7:00pm\n0.0 $3,000 0 0.10 0.0 0 0.0 0.0 0.0 0.0\n"
     ]
    }
   ],
   "source": [
    "driver.implicitly_wait(7)\n",
    "# /html/body/main/div[2]/div[4]/div/span[2]/a/strong\n",
    "# /html/body/div[4]/span\n",
    "driver.find_element_by_xpath(\"/html/body/main/div[2]/div[4]/div/span[2]/a/strong\").click()\n",
    "driver.implicitly_wait(3)\n",
    "driver.find_element_by_xpath(\"/html/body/div[4]/span\").click()\n",
    "driver.implicitly_wait(1)\n",
    "\n",
    "driver.find_element_by_xpath(\"/html/body/main/div[2]/div[2]/div/div[2]/div[1]/div/span\").click()\n",
    "driver.implicitly_wait(1)\n",
    "\n",
    "driver.find_element_by_xpath(\"/html/body/main/div[2]/div[2]/div/div[2]/div[1]/div/ul/li[2]\").click()\n",
    "driver.implicitly_wait(1)\n",
    "\n",
    "get_numberfire = driver.find_elements_by_xpath('/html/body/main/div[2]/div[2]/section/div[4]/div[2]/table/tbody')\n",
    "# get_numberfire = driver.find_elements_by_class_name(\"team-player cta left-aligned\")\n",
    "\n",
    "\n",
    "# print(get_numberfire.text)\n",
    "\n",
    "# band_test = test.find_elements_by_tag_name(\"h3\")\n",
    "\n",
    "dk_numberfire = pd.DataFrame(columns=[\"names\"])\n",
    "\n",
    "for player in get_numberfire:\n",
    "    print(player.text)\n",
    "    dk_numberfire = dk_numberfire.append({\"names\":player.text}, ignore_index=True)"
   ]
  },
  {
   "cell_type": "code",
   "execution_count": 235,
   "metadata": {},
   "outputs": [
    {
     "output_type": "execute_result",
     "data": {
      "text/plain": [
       "                                               names\n",
       "0  LeBron James PG/SF\\nLAL  @  MEM GTD\\nSun 6:00p..."
      ],
      "text/html": "<div>\n<style scoped>\n    .dataframe tbody tr th:only-of-type {\n        vertical-align: middle;\n    }\n\n    .dataframe tbody tr th {\n        vertical-align: top;\n    }\n\n    .dataframe thead th {\n        text-align: right;\n    }\n</style>\n<table border=\"1\" class=\"dataframe\">\n  <thead>\n    <tr style=\"text-align: right;\">\n      <th></th>\n      <th>names</th>\n    </tr>\n  </thead>\n  <tbody>\n    <tr>\n      <th>0</th>\n      <td>LeBron James PG/SF\\nLAL  @  MEM GTD\\nSun 6:00p...</td>\n    </tr>\n  </tbody>\n</table>\n</div>"
     },
     "metadata": {},
     "execution_count": 235
    }
   ],
   "source": [
    "df_main = dk_numberfire\n",
    "df_main.dtypes\n",
    "# df_main = np.array(df_main)\n",
    "\n",
    "df_main"
   ]
  },
  {
   "cell_type": "code",
   "execution_count": 236,
   "metadata": {},
   "outputs": [
    {
     "output_type": "execute_result",
     "data": {
      "text/plain": [
       "0    [LeBron James PG/SF, LAL  @  MEM GTD, Sun 6:00...\n",
       "Name: names, dtype: object"
      ]
     },
     "metadata": {},
     "execution_count": 236
    }
   ],
   "source": [
    "df_main = df_main.names.str.split(\"\\n\")\n",
    "df_main"
   ]
  },
  {
   "cell_type": "code",
   "execution_count": 237,
   "metadata": {},
   "outputs": [],
   "source": [
    "# df_main.assign(Book=df_main.names.str.split(\"\")).explode('Book')"
   ]
  },
  {
   "cell_type": "code",
   "execution_count": 238,
   "metadata": {},
   "outputs": [
    {
     "output_type": "execute_result",
     "data": {
      "text/plain": [
       "                                               names  row_num\n",
       "0                                 LeBron James PG/SF        0\n",
       "1                                    LAL  @  MEM GTD        1\n",
       "2                                         Sun 6:00pm        2\n",
       "3  60.4 $10,100 5.98 34.33 28.4 8.7 10.3 1.4 0.9 4.7        3\n",
       "4                                     Luka Doncic PG        4\n",
       "5                                        DAL  @  CHI        5\n",
       "6                                         Sun 8:00pm        6\n",
       "7   54.7 $10,000 5.47 34.63 27.0 9.6 9.4 1.1 0.4 3.8        7\n",
       "8                                     Nikola Jokic C        8\n",
       "9                                        DEN  @  MIN        9"
      ],
      "text/html": "<div>\n<style scoped>\n    .dataframe tbody tr th:only-of-type {\n        vertical-align: middle;\n    }\n\n    .dataframe tbody tr th {\n        vertical-align: top;\n    }\n\n    .dataframe thead th {\n        text-align: right;\n    }\n</style>\n<table border=\"1\" class=\"dataframe\">\n  <thead>\n    <tr style=\"text-align: right;\">\n      <th></th>\n      <th>names</th>\n      <th>row_num</th>\n    </tr>\n  </thead>\n  <tbody>\n    <tr>\n      <th>0</th>\n      <td>LeBron James PG/SF</td>\n      <td>0</td>\n    </tr>\n    <tr>\n      <th>1</th>\n      <td>LAL  @  MEM GTD</td>\n      <td>1</td>\n    </tr>\n    <tr>\n      <th>2</th>\n      <td>Sun 6:00pm</td>\n      <td>2</td>\n    </tr>\n    <tr>\n      <th>3</th>\n      <td>60.4 $10,100 5.98 34.33 28.4 8.7 10.3 1.4 0.9 4.7</td>\n      <td>3</td>\n    </tr>\n    <tr>\n      <th>4</th>\n      <td>Luka Doncic PG</td>\n      <td>4</td>\n    </tr>\n    <tr>\n      <th>5</th>\n      <td>DAL  @  CHI</td>\n      <td>5</td>\n    </tr>\n    <tr>\n      <th>6</th>\n      <td>Sun 8:00pm</td>\n      <td>6</td>\n    </tr>\n    <tr>\n      <th>7</th>\n      <td>54.7 $10,000 5.47 34.63 27.0 9.6 9.4 1.1 0.4 3.8</td>\n      <td>7</td>\n    </tr>\n    <tr>\n      <th>8</th>\n      <td>Nikola Jokic C</td>\n      <td>8</td>\n    </tr>\n    <tr>\n      <th>9</th>\n      <td>DEN  @  MIN</td>\n      <td>9</td>\n    </tr>\n  </tbody>\n</table>\n</div>"
     },
     "metadata": {},
     "execution_count": 238
    }
   ],
   "source": [
    "import numpy as np\n",
    "\n",
    "df_main = df_main.explode('names')\n",
    "df_main = df_main.to_frame()\n",
    "df_main['row_num'] = np.arange(len(df_main))\n",
    "df_main.head(10)"
   ]
  },
  {
   "cell_type": "code",
   "execution_count": 239,
   "metadata": {},
   "outputs": [
    {
     "output_type": "execute_result",
     "data": {
      "text/plain": [
       "                                                 names  row_num   row_desc\n",
       "0                                   LeBron James PG/SF        0     player\n",
       "1                                      LAL  @  MEM GTD        1  game_info\n",
       "2                                           Sun 6:00pm        2  game_time\n",
       "3    60.4 $10,100 5.98 34.33 28.4 8.7 10.3 1.4 0.9 4.7        3      stats\n",
       "4                                       Luka Doncic PG        4     player\n",
       "..                                                 ...      ...        ...\n",
       "787            0.0 $3,000 0 0.12 0.0 0 0.0 0.0 0.0 0.0      787      stats\n",
       "788                                   Elijah Hughes SF      788     player\n",
       "789                                        UTAH  @  SA      789  game_info\n",
       "790                                         Sun 7:00pm      790  game_time\n",
       "791            0.0 $3,000 0 0.10 0.0 0 0.0 0.0 0.0 0.0      791      stats\n",
       "\n",
       "[792 rows x 3 columns]"
      ],
      "text/html": "<div>\n<style scoped>\n    .dataframe tbody tr th:only-of-type {\n        vertical-align: middle;\n    }\n\n    .dataframe tbody tr th {\n        vertical-align: top;\n    }\n\n    .dataframe thead th {\n        text-align: right;\n    }\n</style>\n<table border=\"1\" class=\"dataframe\">\n  <thead>\n    <tr style=\"text-align: right;\">\n      <th></th>\n      <th>names</th>\n      <th>row_num</th>\n      <th>row_desc</th>\n    </tr>\n  </thead>\n  <tbody>\n    <tr>\n      <th>0</th>\n      <td>LeBron James PG/SF</td>\n      <td>0</td>\n      <td>player</td>\n    </tr>\n    <tr>\n      <th>1</th>\n      <td>LAL  @  MEM GTD</td>\n      <td>1</td>\n      <td>game_info</td>\n    </tr>\n    <tr>\n      <th>2</th>\n      <td>Sun 6:00pm</td>\n      <td>2</td>\n      <td>game_time</td>\n    </tr>\n    <tr>\n      <th>3</th>\n      <td>60.4 $10,100 5.98 34.33 28.4 8.7 10.3 1.4 0.9 4.7</td>\n      <td>3</td>\n      <td>stats</td>\n    </tr>\n    <tr>\n      <th>4</th>\n      <td>Luka Doncic PG</td>\n      <td>4</td>\n      <td>player</td>\n    </tr>\n    <tr>\n      <th>...</th>\n      <td>...</td>\n      <td>...</td>\n      <td>...</td>\n    </tr>\n    <tr>\n      <th>787</th>\n      <td>0.0 $3,000 0 0.12 0.0 0 0.0 0.0 0.0 0.0</td>\n      <td>787</td>\n      <td>stats</td>\n    </tr>\n    <tr>\n      <th>788</th>\n      <td>Elijah Hughes SF</td>\n      <td>788</td>\n      <td>player</td>\n    </tr>\n    <tr>\n      <th>789</th>\n      <td>UTAH  @  SA</td>\n      <td>789</td>\n      <td>game_info</td>\n    </tr>\n    <tr>\n      <th>790</th>\n      <td>Sun 7:00pm</td>\n      <td>790</td>\n      <td>game_time</td>\n    </tr>\n    <tr>\n      <th>791</th>\n      <td>0.0 $3,000 0 0.10 0.0 0 0.0 0.0 0.0 0.0</td>\n      <td>791</td>\n      <td>stats</td>\n    </tr>\n  </tbody>\n</table>\n<p>792 rows × 3 columns</p>\n</div>"
     },
     "metadata": {},
     "execution_count": 239
    }
   ],
   "source": [
    "\n",
    "df_main['row_desc'] = np.select(\n",
    "    [\n",
    "        df_main.names.str.contains('Jr', regex=False, na=False), \n",
    "        df_main.names.str.contains('.', regex=False, na=False), \n",
    "        df_main.names.str.contains('@', regex=False, na=False), \n",
    "        df_main.names.str.contains('pm', regex=False, na=False), \n",
    "        # df_main.names.str.contains('PG', regex=False), \n",
    "        # df_main.names.str.contains('SG', regex=False), \n",
    "        # df_main.names.str.contains('SF', regex=False), \n",
    "        # df_main.names.str.contains('PF', regex=False), \n",
    "        # df_main.names.str.contains('C', regex=False), \n",
    "    ], \n",
    "    [\n",
    "        'player',\n",
    "        'stats',\n",
    "        'game_info',\n",
    "        'game_time'\n",
    "        # ' PG'\n",
    "        # ' SG'\n",
    "        # ' SF'\n",
    "        # ' PF'\n",
    "        # ' C'\n",
    "    ], \n",
    "    default='player'\n",
    ")\n",
    "\n",
    "df_main"
   ]
  },
  {
   "cell_type": "code",
   "execution_count": 240,
   "metadata": {},
   "outputs": [
    {
     "output_type": "execute_result",
     "data": {
      "text/plain": [
       "row_desc        game_info   game_time              player  \\\n",
       "row_num                                                     \n",
       "0                     NaN         NaN  LeBron James PG/SF   \n",
       "1         LAL  @  MEM GTD         NaN                 NaN   \n",
       "2                     NaN  Sun 6:00pm                 NaN   \n",
       "3                     NaN         NaN                 NaN   \n",
       "4                     NaN         NaN      Luka Doncic PG   \n",
       "...                   ...         ...                 ...   \n",
       "787                   NaN         NaN                 NaN   \n",
       "788                   NaN         NaN    Elijah Hughes SF   \n",
       "789           UTAH  @  SA         NaN                 NaN   \n",
       "790                   NaN  Sun 7:00pm                 NaN   \n",
       "791                   NaN         NaN                 NaN   \n",
       "\n",
       "row_desc                                              stats  \n",
       "row_num                                                      \n",
       "0                                                       NaN  \n",
       "1                                                       NaN  \n",
       "2                                                       NaN  \n",
       "3         60.4 $10,100 5.98 34.33 28.4 8.7 10.3 1.4 0.9 4.7  \n",
       "4                                                       NaN  \n",
       "...                                                     ...  \n",
       "787                 0.0 $3,000 0 0.12 0.0 0 0.0 0.0 0.0 0.0  \n",
       "788                                                     NaN  \n",
       "789                                                     NaN  \n",
       "790                                                     NaN  \n",
       "791                 0.0 $3,000 0 0.10 0.0 0 0.0 0.0 0.0 0.0  \n",
       "\n",
       "[792 rows x 4 columns]"
      ],
      "text/html": "<div>\n<style scoped>\n    .dataframe tbody tr th:only-of-type {\n        vertical-align: middle;\n    }\n\n    .dataframe tbody tr th {\n        vertical-align: top;\n    }\n\n    .dataframe thead th {\n        text-align: right;\n    }\n</style>\n<table border=\"1\" class=\"dataframe\">\n  <thead>\n    <tr style=\"text-align: right;\">\n      <th>row_desc</th>\n      <th>game_info</th>\n      <th>game_time</th>\n      <th>player</th>\n      <th>stats</th>\n    </tr>\n    <tr>\n      <th>row_num</th>\n      <th></th>\n      <th></th>\n      <th></th>\n      <th></th>\n    </tr>\n  </thead>\n  <tbody>\n    <tr>\n      <th>0</th>\n      <td>NaN</td>\n      <td>NaN</td>\n      <td>LeBron James PG/SF</td>\n      <td>NaN</td>\n    </tr>\n    <tr>\n      <th>1</th>\n      <td>LAL  @  MEM GTD</td>\n      <td>NaN</td>\n      <td>NaN</td>\n      <td>NaN</td>\n    </tr>\n    <tr>\n      <th>2</th>\n      <td>NaN</td>\n      <td>Sun 6:00pm</td>\n      <td>NaN</td>\n      <td>NaN</td>\n    </tr>\n    <tr>\n      <th>3</th>\n      <td>NaN</td>\n      <td>NaN</td>\n      <td>NaN</td>\n      <td>60.4 $10,100 5.98 34.33 28.4 8.7 10.3 1.4 0.9 4.7</td>\n    </tr>\n    <tr>\n      <th>4</th>\n      <td>NaN</td>\n      <td>NaN</td>\n      <td>Luka Doncic PG</td>\n      <td>NaN</td>\n    </tr>\n    <tr>\n      <th>...</th>\n      <td>...</td>\n      <td>...</td>\n      <td>...</td>\n      <td>...</td>\n    </tr>\n    <tr>\n      <th>787</th>\n      <td>NaN</td>\n      <td>NaN</td>\n      <td>NaN</td>\n      <td>0.0 $3,000 0 0.12 0.0 0 0.0 0.0 0.0 0.0</td>\n    </tr>\n    <tr>\n      <th>788</th>\n      <td>NaN</td>\n      <td>NaN</td>\n      <td>Elijah Hughes SF</td>\n      <td>NaN</td>\n    </tr>\n    <tr>\n      <th>789</th>\n      <td>UTAH  @  SA</td>\n      <td>NaN</td>\n      <td>NaN</td>\n      <td>NaN</td>\n    </tr>\n    <tr>\n      <th>790</th>\n      <td>NaN</td>\n      <td>Sun 7:00pm</td>\n      <td>NaN</td>\n      <td>NaN</td>\n    </tr>\n    <tr>\n      <th>791</th>\n      <td>NaN</td>\n      <td>NaN</td>\n      <td>NaN</td>\n      <td>0.0 $3,000 0 0.10 0.0 0 0.0 0.0 0.0 0.0</td>\n    </tr>\n  </tbody>\n</table>\n<p>792 rows × 4 columns</p>\n</div>"
     },
     "metadata": {},
     "execution_count": 240
    }
   ],
   "source": [
    "# df_main_pivot = pd.DataFrame({'names':df_main})\n",
    "\n",
    "# player\n",
    "df_main_pivot = df_main\n",
    "df_main_pivot = df_main_pivot.pivot(index='row_num', columns='row_desc', values='names')\n",
    "\n",
    "df_main_pivot"
   ]
  },
  {
   "cell_type": "code",
   "execution_count": 241,
   "metadata": {},
   "outputs": [
    {
     "output_type": "execute_result",
     "data": {
      "text/plain": [
       "    row_num                player  \\\n",
       "0         0    LeBron James PG/SF   \n",
       "1         3                   NaN   \n",
       "2         4        Luka Doncic PG   \n",
       "3         7                   NaN   \n",
       "4         8        Nikola Jokic C   \n",
       "5        11                   NaN   \n",
       "6        12  Russell Westbrook PG   \n",
       "7        15                   NaN   \n",
       "8        16      Kawhi Leonard SF   \n",
       "9        19                   NaN   \n",
       "10       20      Stephen Curry PG   \n",
       "11       23                   NaN   \n",
       "12       24    Anthony Davis PF/C   \n",
       "13       27                   NaN   \n",
       "14       28       Kevin Durant PF   \n",
       "15       31                   NaN   \n",
       "16       32        Paul George SG   \n",
       "17       35                   NaN   \n",
       "18       36       Kyrie Irving PG   \n",
       "19       39                   NaN   \n",
       "\n",
       "                                                stats tag_row  \n",
       "0                                                 NaN  player  \n",
       "1   60.4 $10,100 5.98 34.33 28.4 8.7 10.3 1.4 0.9 4.7   stats  \n",
       "2                                                 NaN  player  \n",
       "3    54.7 $10,000 5.47 34.63 27.0 9.6 9.4 1.1 0.4 3.8   stats  \n",
       "4                                                 NaN  player  \n",
       "5   51.8 $10,600 4.88 35.32 21.6 11.7 7.5 1.3 0.8 3.6   stats  \n",
       "6                                                 NaN  player  \n",
       "7    50.6 $10,200 4.96 32.67 21.8 9.4 9.8 1.6 0.4 3.3   stats  \n",
       "8                                                 NaN  player  \n",
       "9     50.5 $9,600 5.26 35.19 26.8 8.5 5.5 2.1 0.6 3.0   stats  \n",
       "10                                                NaN  player  \n",
       "11    48.3 $9,400 5.14 35.39 28.8 3.9 7.7 1.4 0.3 3.0   stats  \n",
       "12                                                NaN  player  \n",
       "13    47.9 $9,700 4.94 34.08 25.3 9.6 3.2 1.2 1.9 2.5   stats  \n",
       "14                                                NaN  player  \n",
       "15      46.1 $9,300 4.95 34.17 25.7 7 5.2 1.1 0.4 2.2   stats  \n",
       "16                                                NaN  player  \n",
       "17    45.1 $8,700 5.18 34.02 23.7 6.5 5.3 1.9 0.4 3.4   stats  \n",
       "18                                                NaN  player  \n",
       "19       45.0 $9,000 5 33.97 26.7 4.7 5.6 1.3 0.2 2.4   stats  "
      ],
      "text/html": "<div>\n<style scoped>\n    .dataframe tbody tr th:only-of-type {\n        vertical-align: middle;\n    }\n\n    .dataframe tbody tr th {\n        vertical-align: top;\n    }\n\n    .dataframe thead th {\n        text-align: right;\n    }\n</style>\n<table border=\"1\" class=\"dataframe\">\n  <thead>\n    <tr style=\"text-align: right;\">\n      <th></th>\n      <th>row_num</th>\n      <th>player</th>\n      <th>stats</th>\n      <th>tag_row</th>\n    </tr>\n  </thead>\n  <tbody>\n    <tr>\n      <th>0</th>\n      <td>0</td>\n      <td>LeBron James PG/SF</td>\n      <td>NaN</td>\n      <td>player</td>\n    </tr>\n    <tr>\n      <th>1</th>\n      <td>3</td>\n      <td>NaN</td>\n      <td>60.4 $10,100 5.98 34.33 28.4 8.7 10.3 1.4 0.9 4.7</td>\n      <td>stats</td>\n    </tr>\n    <tr>\n      <th>2</th>\n      <td>4</td>\n      <td>Luka Doncic PG</td>\n      <td>NaN</td>\n      <td>player</td>\n    </tr>\n    <tr>\n      <th>3</th>\n      <td>7</td>\n      <td>NaN</td>\n      <td>54.7 $10,000 5.47 34.63 27.0 9.6 9.4 1.1 0.4 3.8</td>\n      <td>stats</td>\n    </tr>\n    <tr>\n      <th>4</th>\n      <td>8</td>\n      <td>Nikola Jokic C</td>\n      <td>NaN</td>\n      <td>player</td>\n    </tr>\n    <tr>\n      <th>5</th>\n      <td>11</td>\n      <td>NaN</td>\n      <td>51.8 $10,600 4.88 35.32 21.6 11.7 7.5 1.3 0.8 3.6</td>\n      <td>stats</td>\n    </tr>\n    <tr>\n      <th>6</th>\n      <td>12</td>\n      <td>Russell Westbrook PG</td>\n      <td>NaN</td>\n      <td>player</td>\n    </tr>\n    <tr>\n      <th>7</th>\n      <td>15</td>\n      <td>NaN</td>\n      <td>50.6 $10,200 4.96 32.67 21.8 9.4 9.8 1.6 0.4 3.3</td>\n      <td>stats</td>\n    </tr>\n    <tr>\n      <th>8</th>\n      <td>16</td>\n      <td>Kawhi Leonard SF</td>\n      <td>NaN</td>\n      <td>player</td>\n    </tr>\n    <tr>\n      <th>9</th>\n      <td>19</td>\n      <td>NaN</td>\n      <td>50.5 $9,600 5.26 35.19 26.8 8.5 5.5 2.1 0.6 3.0</td>\n      <td>stats</td>\n    </tr>\n    <tr>\n      <th>10</th>\n      <td>20</td>\n      <td>Stephen Curry PG</td>\n      <td>NaN</td>\n      <td>player</td>\n    </tr>\n    <tr>\n      <th>11</th>\n      <td>23</td>\n      <td>NaN</td>\n      <td>48.3 $9,400 5.14 35.39 28.8 3.9 7.7 1.4 0.3 3.0</td>\n      <td>stats</td>\n    </tr>\n    <tr>\n      <th>12</th>\n      <td>24</td>\n      <td>Anthony Davis PF/C</td>\n      <td>NaN</td>\n      <td>player</td>\n    </tr>\n    <tr>\n      <th>13</th>\n      <td>27</td>\n      <td>NaN</td>\n      <td>47.9 $9,700 4.94 34.08 25.3 9.6 3.2 1.2 1.9 2.5</td>\n      <td>stats</td>\n    </tr>\n    <tr>\n      <th>14</th>\n      <td>28</td>\n      <td>Kevin Durant PF</td>\n      <td>NaN</td>\n      <td>player</td>\n    </tr>\n    <tr>\n      <th>15</th>\n      <td>31</td>\n      <td>NaN</td>\n      <td>46.1 $9,300 4.95 34.17 25.7 7 5.2 1.1 0.4 2.2</td>\n      <td>stats</td>\n    </tr>\n    <tr>\n      <th>16</th>\n      <td>32</td>\n      <td>Paul George SG</td>\n      <td>NaN</td>\n      <td>player</td>\n    </tr>\n    <tr>\n      <th>17</th>\n      <td>35</td>\n      <td>NaN</td>\n      <td>45.1 $8,700 5.18 34.02 23.7 6.5 5.3 1.9 0.4 3.4</td>\n      <td>stats</td>\n    </tr>\n    <tr>\n      <th>18</th>\n      <td>36</td>\n      <td>Kyrie Irving PG</td>\n      <td>NaN</td>\n      <td>player</td>\n    </tr>\n    <tr>\n      <th>19</th>\n      <td>39</td>\n      <td>NaN</td>\n      <td>45.0 $9,000 5 33.97 26.7 4.7 5.6 1.3 0.2 2.4</td>\n      <td>stats</td>\n    </tr>\n  </tbody>\n</table>\n</div>"
     },
     "metadata": {},
     "execution_count": 241
    }
   ],
   "source": [
    "df_main_pivot_names = df_main_pivot['player']\n",
    "df_main_pivot_stats = df_main_pivot['stats']\n",
    "df_main_pivot_names = df_main_pivot_names.dropna()\n",
    "df_main_pivot_stats = df_main_pivot_stats.dropna()\n",
    "df_main_join = pd.concat([df_main_pivot_names, df_main_pivot_stats], axis=1).reset_index()\n",
    "df_main_join['tag_row'] = np.where(df_main_join['player'].isnull(), 'stats', 'player')\n",
    "df_main_join.head(20)"
   ]
  },
  {
   "cell_type": "code",
   "execution_count": 242,
   "metadata": {},
   "outputs": [],
   "source": [
    "df_main_join_fill = df_main_join.fillna(method='ffill')\n",
    "df_main_join_fill.head(30)\n",
    "df_main_join_fill.to_csv(\"check_players_no_issues.csv\", sep = ',')"
   ]
  },
  {
   "cell_type": "code",
   "execution_count": 243,
   "metadata": {},
   "outputs": [
    {
     "output_type": "execute_result",
     "data": {
      "text/plain": [
       "    row_num                player  \\\n",
       "1         3    LeBron James PG/SF   \n",
       "3         7        Luka Doncic PG   \n",
       "5        11        Nikola Jokic C   \n",
       "7        15  Russell Westbrook PG   \n",
       "9        19      Kawhi Leonard SF   \n",
       "11       23      Stephen Curry PG   \n",
       "13       27    Anthony Davis PF/C   \n",
       "15       31       Kevin Durant PF   \n",
       "17       35        Paul George SG   \n",
       "19       39       Kyrie Irving PG   \n",
       "\n",
       "                                                stats tag_row  \n",
       "1   60.4 $10,100 5.98 34.33 28.4 8.7 10.3 1.4 0.9 4.7   stats  \n",
       "3    54.7 $10,000 5.47 34.63 27.0 9.6 9.4 1.1 0.4 3.8   stats  \n",
       "5   51.8 $10,600 4.88 35.32 21.6 11.7 7.5 1.3 0.8 3.6   stats  \n",
       "7    50.6 $10,200 4.96 32.67 21.8 9.4 9.8 1.6 0.4 3.3   stats  \n",
       "9     50.5 $9,600 5.26 35.19 26.8 8.5 5.5 2.1 0.6 3.0   stats  \n",
       "11    48.3 $9,400 5.14 35.39 28.8 3.9 7.7 1.4 0.3 3.0   stats  \n",
       "13    47.9 $9,700 4.94 34.08 25.3 9.6 3.2 1.2 1.9 2.5   stats  \n",
       "15      46.1 $9,300 4.95 34.17 25.7 7 5.2 1.1 0.4 2.2   stats  \n",
       "17    45.1 $8,700 5.18 34.02 23.7 6.5 5.3 1.9 0.4 3.4   stats  \n",
       "19       45.0 $9,000 5 33.97 26.7 4.7 5.6 1.3 0.2 2.4   stats  "
      ],
      "text/html": "<div>\n<style scoped>\n    .dataframe tbody tr th:only-of-type {\n        vertical-align: middle;\n    }\n\n    .dataframe tbody tr th {\n        vertical-align: top;\n    }\n\n    .dataframe thead th {\n        text-align: right;\n    }\n</style>\n<table border=\"1\" class=\"dataframe\">\n  <thead>\n    <tr style=\"text-align: right;\">\n      <th></th>\n      <th>row_num</th>\n      <th>player</th>\n      <th>stats</th>\n      <th>tag_row</th>\n    </tr>\n  </thead>\n  <tbody>\n    <tr>\n      <th>1</th>\n      <td>3</td>\n      <td>LeBron James PG/SF</td>\n      <td>60.4 $10,100 5.98 34.33 28.4 8.7 10.3 1.4 0.9 4.7</td>\n      <td>stats</td>\n    </tr>\n    <tr>\n      <th>3</th>\n      <td>7</td>\n      <td>Luka Doncic PG</td>\n      <td>54.7 $10,000 5.47 34.63 27.0 9.6 9.4 1.1 0.4 3.8</td>\n      <td>stats</td>\n    </tr>\n    <tr>\n      <th>5</th>\n      <td>11</td>\n      <td>Nikola Jokic C</td>\n      <td>51.8 $10,600 4.88 35.32 21.6 11.7 7.5 1.3 0.8 3.6</td>\n      <td>stats</td>\n    </tr>\n    <tr>\n      <th>7</th>\n      <td>15</td>\n      <td>Russell Westbrook PG</td>\n      <td>50.6 $10,200 4.96 32.67 21.8 9.4 9.8 1.6 0.4 3.3</td>\n      <td>stats</td>\n    </tr>\n    <tr>\n      <th>9</th>\n      <td>19</td>\n      <td>Kawhi Leonard SF</td>\n      <td>50.5 $9,600 5.26 35.19 26.8 8.5 5.5 2.1 0.6 3.0</td>\n      <td>stats</td>\n    </tr>\n    <tr>\n      <th>11</th>\n      <td>23</td>\n      <td>Stephen Curry PG</td>\n      <td>48.3 $9,400 5.14 35.39 28.8 3.9 7.7 1.4 0.3 3.0</td>\n      <td>stats</td>\n    </tr>\n    <tr>\n      <th>13</th>\n      <td>27</td>\n      <td>Anthony Davis PF/C</td>\n      <td>47.9 $9,700 4.94 34.08 25.3 9.6 3.2 1.2 1.9 2.5</td>\n      <td>stats</td>\n    </tr>\n    <tr>\n      <th>15</th>\n      <td>31</td>\n      <td>Kevin Durant PF</td>\n      <td>46.1 $9,300 4.95 34.17 25.7 7 5.2 1.1 0.4 2.2</td>\n      <td>stats</td>\n    </tr>\n    <tr>\n      <th>17</th>\n      <td>35</td>\n      <td>Paul George SG</td>\n      <td>45.1 $8,700 5.18 34.02 23.7 6.5 5.3 1.9 0.4 3.4</td>\n      <td>stats</td>\n    </tr>\n    <tr>\n      <th>19</th>\n      <td>39</td>\n      <td>Kyrie Irving PG</td>\n      <td>45.0 $9,000 5 33.97 26.7 4.7 5.6 1.3 0.2 2.4</td>\n      <td>stats</td>\n    </tr>\n  </tbody>\n</table>\n</div>"
     },
     "metadata": {},
     "execution_count": 243
    }
   ],
   "source": [
    "df_drop = df_main_join_fill\n",
    "df_analysis = df_drop.drop_duplicates(subset=['player'], keep = 'last', inplace=False)\n",
    "df_analysis.head(10)"
   ]
  },
  {
   "cell_type": "code",
   "execution_count": 244,
   "metadata": {},
   "outputs": [
    {
     "output_type": "execute_result",
     "data": {
      "text/plain": [
       "        0        1     2      3     4     5     6    7    8    9  \\\n",
       "1    60.4  $10,100  5.98  34.33  28.4   8.7  10.3  1.4  0.9  4.7   \n",
       "3    54.7  $10,000  5.47  34.63  27.0   9.6   9.4  1.1  0.4  3.8   \n",
       "5    51.8  $10,600  4.88  35.32  21.6  11.7   7.5  1.3  0.8  3.6   \n",
       "7    50.6  $10,200  4.96  32.67  21.8   9.4   9.8  1.6  0.4  3.3   \n",
       "9    50.5   $9,600  5.26  35.19  26.8   8.5   5.5  2.1  0.6  3.0   \n",
       "..    ...      ...   ...    ...   ...   ...   ...  ...  ...  ...   \n",
       "387   0.0   $5,500     0   0.00   0.0     0   0.0  0.0  0.0  0.0   \n",
       "389   0.0   $3,000     0   0.11   0.0     0   0.0  0.0  0.0  0.0   \n",
       "391   0.0   $3,000     0   0.00   0.0     0   0.0  0.0  0.0  0.0   \n",
       "393   0.0   $3,000     0   0.12   0.0     0   0.0  0.0  0.0  0.0   \n",
       "395   0.0   $3,000     0   0.10   0.0     0   0.0  0.0  0.0  0.0   \n",
       "\n",
       "                   player  \n",
       "1      LeBron James PG/SF  \n",
       "3          Luka Doncic PG  \n",
       "5          Nikola Jokic C  \n",
       "7    Russell Westbrook PG  \n",
       "9        Kawhi Leonard SF  \n",
       "..                    ...  \n",
       "387   Marcus Morris SF/PF  \n",
       "389        Damian Jones C  \n",
       "391        Abdel Nader SF  \n",
       "393   Cristiano Felicio C  \n",
       "395      Elijah Hughes SF  \n",
       "\n",
       "[194 rows x 11 columns]"
      ],
      "text/html": "<div>\n<style scoped>\n    .dataframe tbody tr th:only-of-type {\n        vertical-align: middle;\n    }\n\n    .dataframe tbody tr th {\n        vertical-align: top;\n    }\n\n    .dataframe thead th {\n        text-align: right;\n    }\n</style>\n<table border=\"1\" class=\"dataframe\">\n  <thead>\n    <tr style=\"text-align: right;\">\n      <th></th>\n      <th>0</th>\n      <th>1</th>\n      <th>2</th>\n      <th>3</th>\n      <th>4</th>\n      <th>5</th>\n      <th>6</th>\n      <th>7</th>\n      <th>8</th>\n      <th>9</th>\n      <th>player</th>\n    </tr>\n  </thead>\n  <tbody>\n    <tr>\n      <th>1</th>\n      <td>60.4</td>\n      <td>$10,100</td>\n      <td>5.98</td>\n      <td>34.33</td>\n      <td>28.4</td>\n      <td>8.7</td>\n      <td>10.3</td>\n      <td>1.4</td>\n      <td>0.9</td>\n      <td>4.7</td>\n      <td>LeBron James PG/SF</td>\n    </tr>\n    <tr>\n      <th>3</th>\n      <td>54.7</td>\n      <td>$10,000</td>\n      <td>5.47</td>\n      <td>34.63</td>\n      <td>27.0</td>\n      <td>9.6</td>\n      <td>9.4</td>\n      <td>1.1</td>\n      <td>0.4</td>\n      <td>3.8</td>\n      <td>Luka Doncic PG</td>\n    </tr>\n    <tr>\n      <th>5</th>\n      <td>51.8</td>\n      <td>$10,600</td>\n      <td>4.88</td>\n      <td>35.32</td>\n      <td>21.6</td>\n      <td>11.7</td>\n      <td>7.5</td>\n      <td>1.3</td>\n      <td>0.8</td>\n      <td>3.6</td>\n      <td>Nikola Jokic C</td>\n    </tr>\n    <tr>\n      <th>7</th>\n      <td>50.6</td>\n      <td>$10,200</td>\n      <td>4.96</td>\n      <td>32.67</td>\n      <td>21.8</td>\n      <td>9.4</td>\n      <td>9.8</td>\n      <td>1.6</td>\n      <td>0.4</td>\n      <td>3.3</td>\n      <td>Russell Westbrook PG</td>\n    </tr>\n    <tr>\n      <th>9</th>\n      <td>50.5</td>\n      <td>$9,600</td>\n      <td>5.26</td>\n      <td>35.19</td>\n      <td>26.8</td>\n      <td>8.5</td>\n      <td>5.5</td>\n      <td>2.1</td>\n      <td>0.6</td>\n      <td>3.0</td>\n      <td>Kawhi Leonard SF</td>\n    </tr>\n    <tr>\n      <th>...</th>\n      <td>...</td>\n      <td>...</td>\n      <td>...</td>\n      <td>...</td>\n      <td>...</td>\n      <td>...</td>\n      <td>...</td>\n      <td>...</td>\n      <td>...</td>\n      <td>...</td>\n      <td>...</td>\n    </tr>\n    <tr>\n      <th>387</th>\n      <td>0.0</td>\n      <td>$5,500</td>\n      <td>0</td>\n      <td>0.00</td>\n      <td>0.0</td>\n      <td>0</td>\n      <td>0.0</td>\n      <td>0.0</td>\n      <td>0.0</td>\n      <td>0.0</td>\n      <td>Marcus Morris SF/PF</td>\n    </tr>\n    <tr>\n      <th>389</th>\n      <td>0.0</td>\n      <td>$3,000</td>\n      <td>0</td>\n      <td>0.11</td>\n      <td>0.0</td>\n      <td>0</td>\n      <td>0.0</td>\n      <td>0.0</td>\n      <td>0.0</td>\n      <td>0.0</td>\n      <td>Damian Jones C</td>\n    </tr>\n    <tr>\n      <th>391</th>\n      <td>0.0</td>\n      <td>$3,000</td>\n      <td>0</td>\n      <td>0.00</td>\n      <td>0.0</td>\n      <td>0</td>\n      <td>0.0</td>\n      <td>0.0</td>\n      <td>0.0</td>\n      <td>0.0</td>\n      <td>Abdel Nader SF</td>\n    </tr>\n    <tr>\n      <th>393</th>\n      <td>0.0</td>\n      <td>$3,000</td>\n      <td>0</td>\n      <td>0.12</td>\n      <td>0.0</td>\n      <td>0</td>\n      <td>0.0</td>\n      <td>0.0</td>\n      <td>0.0</td>\n      <td>0.0</td>\n      <td>Cristiano Felicio C</td>\n    </tr>\n    <tr>\n      <th>395</th>\n      <td>0.0</td>\n      <td>$3,000</td>\n      <td>0</td>\n      <td>0.10</td>\n      <td>0.0</td>\n      <td>0</td>\n      <td>0.0</td>\n      <td>0.0</td>\n      <td>0.0</td>\n      <td>0.0</td>\n      <td>Elijah Hughes SF</td>\n    </tr>\n  </tbody>\n</table>\n<p>194 rows × 11 columns</p>\n</div>"
     },
     "metadata": {},
     "execution_count": 244
    }
   ],
   "source": [
    "df_analysis_stats = df_analysis['stats'].str.split(\" \", expand = True)\n",
    "df_analysis_players = df_analysis['player']\n",
    "df_analysis_clean = df_analysis_stats.join(df_analysis_players, how='outer')\n",
    "df_analysis_clean"
   ]
  },
  {
   "cell_type": "code",
   "execution_count": 245,
   "metadata": {},
   "outputs": [],
   "source": [
    "import pandas as pd\n",
    "\n",
    "def f(var):\n",
    "    if isinstance(var, pd.DataFrame):\n",
    "        print(\"do stuff\")"
   ]
  },
  {
   "cell_type": "code",
   "execution_count": 246,
   "metadata": {},
   "outputs": [
    {
     "output_type": "stream",
     "name": "stdout",
     "text": [
      "do stuff\n"
     ]
    }
   ],
   "source": [
    "f(df_analysis_clean)"
   ]
  },
  {
   "cell_type": "code",
   "execution_count": 247,
   "metadata": {},
   "outputs": [
    {
     "output_type": "execute_result",
     "data": {
      "text/plain": [
       "       FP   SALARY VALUE    MIN   PTS   REB   AST  STL  BLK   TO  \\\n",
       "1    60.4  $10,100  5.98  34.33  28.4   8.7  10.3  1.4  0.9  4.7   \n",
       "3    54.7  $10,000  5.47  34.63  27.0   9.6   9.4  1.1  0.4  3.8   \n",
       "5    51.8  $10,600  4.88  35.32  21.6  11.7   7.5  1.3  0.8  3.6   \n",
       "7    50.6  $10,200  4.96  32.67  21.8   9.4   9.8  1.6  0.4  3.3   \n",
       "9    50.5   $9,600  5.26  35.19  26.8   8.5   5.5  2.1  0.6  3.0   \n",
       "..    ...      ...   ...    ...   ...   ...   ...  ...  ...  ...   \n",
       "387   0.0   $5,500     0   0.00   0.0     0   0.0  0.0  0.0  0.0   \n",
       "389   0.0   $3,000     0   0.11   0.0     0   0.0  0.0  0.0  0.0   \n",
       "391   0.0   $3,000     0   0.00   0.0     0   0.0  0.0  0.0  0.0   \n",
       "393   0.0   $3,000     0   0.12   0.0     0   0.0  0.0  0.0  0.0   \n",
       "395   0.0   $3,000     0   0.10   0.0     0   0.0  0.0  0.0  0.0   \n",
       "\n",
       "              PLAYER_NAME  \n",
       "1      LeBron James PG/SF  \n",
       "3          Luka Doncic PG  \n",
       "5          Nikola Jokic C  \n",
       "7    Russell Westbrook PG  \n",
       "9        Kawhi Leonard SF  \n",
       "..                    ...  \n",
       "387   Marcus Morris SF/PF  \n",
       "389        Damian Jones C  \n",
       "391        Abdel Nader SF  \n",
       "393   Cristiano Felicio C  \n",
       "395      Elijah Hughes SF  \n",
       "\n",
       "[194 rows x 11 columns]"
      ],
      "text/html": "<div>\n<style scoped>\n    .dataframe tbody tr th:only-of-type {\n        vertical-align: middle;\n    }\n\n    .dataframe tbody tr th {\n        vertical-align: top;\n    }\n\n    .dataframe thead th {\n        text-align: right;\n    }\n</style>\n<table border=\"1\" class=\"dataframe\">\n  <thead>\n    <tr style=\"text-align: right;\">\n      <th></th>\n      <th>FP</th>\n      <th>SALARY</th>\n      <th>VALUE</th>\n      <th>MIN</th>\n      <th>PTS</th>\n      <th>REB</th>\n      <th>AST</th>\n      <th>STL</th>\n      <th>BLK</th>\n      <th>TO</th>\n      <th>PLAYER_NAME</th>\n    </tr>\n  </thead>\n  <tbody>\n    <tr>\n      <th>1</th>\n      <td>60.4</td>\n      <td>$10,100</td>\n      <td>5.98</td>\n      <td>34.33</td>\n      <td>28.4</td>\n      <td>8.7</td>\n      <td>10.3</td>\n      <td>1.4</td>\n      <td>0.9</td>\n      <td>4.7</td>\n      <td>LeBron James PG/SF</td>\n    </tr>\n    <tr>\n      <th>3</th>\n      <td>54.7</td>\n      <td>$10,000</td>\n      <td>5.47</td>\n      <td>34.63</td>\n      <td>27.0</td>\n      <td>9.6</td>\n      <td>9.4</td>\n      <td>1.1</td>\n      <td>0.4</td>\n      <td>3.8</td>\n      <td>Luka Doncic PG</td>\n    </tr>\n    <tr>\n      <th>5</th>\n      <td>51.8</td>\n      <td>$10,600</td>\n      <td>4.88</td>\n      <td>35.32</td>\n      <td>21.6</td>\n      <td>11.7</td>\n      <td>7.5</td>\n      <td>1.3</td>\n      <td>0.8</td>\n      <td>3.6</td>\n      <td>Nikola Jokic C</td>\n    </tr>\n    <tr>\n      <th>7</th>\n      <td>50.6</td>\n      <td>$10,200</td>\n      <td>4.96</td>\n      <td>32.67</td>\n      <td>21.8</td>\n      <td>9.4</td>\n      <td>9.8</td>\n      <td>1.6</td>\n      <td>0.4</td>\n      <td>3.3</td>\n      <td>Russell Westbrook PG</td>\n    </tr>\n    <tr>\n      <th>9</th>\n      <td>50.5</td>\n      <td>$9,600</td>\n      <td>5.26</td>\n      <td>35.19</td>\n      <td>26.8</td>\n      <td>8.5</td>\n      <td>5.5</td>\n      <td>2.1</td>\n      <td>0.6</td>\n      <td>3.0</td>\n      <td>Kawhi Leonard SF</td>\n    </tr>\n    <tr>\n      <th>...</th>\n      <td>...</td>\n      <td>...</td>\n      <td>...</td>\n      <td>...</td>\n      <td>...</td>\n      <td>...</td>\n      <td>...</td>\n      <td>...</td>\n      <td>...</td>\n      <td>...</td>\n      <td>...</td>\n    </tr>\n    <tr>\n      <th>387</th>\n      <td>0.0</td>\n      <td>$5,500</td>\n      <td>0</td>\n      <td>0.00</td>\n      <td>0.0</td>\n      <td>0</td>\n      <td>0.0</td>\n      <td>0.0</td>\n      <td>0.0</td>\n      <td>0.0</td>\n      <td>Marcus Morris SF/PF</td>\n    </tr>\n    <tr>\n      <th>389</th>\n      <td>0.0</td>\n      <td>$3,000</td>\n      <td>0</td>\n      <td>0.11</td>\n      <td>0.0</td>\n      <td>0</td>\n      <td>0.0</td>\n      <td>0.0</td>\n      <td>0.0</td>\n      <td>0.0</td>\n      <td>Damian Jones C</td>\n    </tr>\n    <tr>\n      <th>391</th>\n      <td>0.0</td>\n      <td>$3,000</td>\n      <td>0</td>\n      <td>0.00</td>\n      <td>0.0</td>\n      <td>0</td>\n      <td>0.0</td>\n      <td>0.0</td>\n      <td>0.0</td>\n      <td>0.0</td>\n      <td>Abdel Nader SF</td>\n    </tr>\n    <tr>\n      <th>393</th>\n      <td>0.0</td>\n      <td>$3,000</td>\n      <td>0</td>\n      <td>0.12</td>\n      <td>0.0</td>\n      <td>0</td>\n      <td>0.0</td>\n      <td>0.0</td>\n      <td>0.0</td>\n      <td>0.0</td>\n      <td>Cristiano Felicio C</td>\n    </tr>\n    <tr>\n      <th>395</th>\n      <td>0.0</td>\n      <td>$3,000</td>\n      <td>0</td>\n      <td>0.10</td>\n      <td>0.0</td>\n      <td>0</td>\n      <td>0.0</td>\n      <td>0.0</td>\n      <td>0.0</td>\n      <td>0.0</td>\n      <td>Elijah Hughes SF</td>\n    </tr>\n  </tbody>\n</table>\n<p>194 rows × 11 columns</p>\n</div>"
     },
     "metadata": {},
     "execution_count": 247
    }
   ],
   "source": [
    "df_analysis_clean.columns = ['FP', 'SALARY', 'VALUE', 'MIN', 'PTS', 'REB', 'AST', 'STL', 'BLK', 'TO', 'PLAYER_NAME']\n",
    "\n",
    "df_analysis_clean"
   ]
  },
  {
   "cell_type": "code",
   "execution_count": 248,
   "metadata": {},
   "outputs": [],
   "source": [
    "df_analysis_clean.to_csv(\"numberfire.csv\", sep = ',')\n",
    "\n",
    "time.sleep(3)\n",
    "\n",
    "driver.quit()"
   ]
  }
 ]
}